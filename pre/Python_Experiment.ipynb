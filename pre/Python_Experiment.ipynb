{
  "cells": [
    {
      "cell_type": "markdown",
      "metadata": {
        "id": "U6Ff-GVsKPzd"
      },
      "source": [
        "# Hello World"
      ]
    },
    {
      "cell_type": "code",
      "execution_count": null,
      "metadata": {
        "id": "nMywZKeYKPzj"
      },
      "outputs": [],
      "source": [
        "compiled  >>   c-c++ speed .exe   H.w env. program >>\n",
        "interpreted >> python"
      ]
    },
    {
      "cell_type": "code",
      "execution_count": null,
      "metadata": {
        "id": "NBYt5ZcSKPzl"
      },
      "outputs": [],
      "source": [
        "AI\n",
        "machine learning >>\n",
        "input & output >>equation >>learning algorithm data (input output)>> model\n",
        "model>> evaluation >> known >> compare accuracy\n",
        "problem > dataset\n",
        "clustering > unlabeled cat  weather temp ..... ? > clusters similrity\n",
        "classification >discrete  > mail inbox spam & purchase yes no &\n",
        "regression > continous data > temp & salary ranges[0 - 9000]"
      ]
    },
    {
      "cell_type": "code",
      "execution_count": null,
      "metadata": {
        "id": "uYN3cctwKPzm"
      },
      "outputs": [],
      "source": []
    },
    {
      "cell_type": "code",
      "execution_count": null,
      "metadata": {
        "id": "7VvQNc9AKPzm"
      },
      "outputs": [],
      "source": []
    },
    {
      "cell_type": "code",
      "execution_count": null,
      "metadata": {
        "id": "bsJc094TKPzm"
      },
      "outputs": [],
      "source": []
    },
    {
      "cell_type": "code",
      "execution_count": null,
      "metadata": {
        "id": "cdtK9N1mKPzn"
      },
      "outputs": [],
      "source": []
    },
    {
      "cell_type": "code",
      "execution_count": null,
      "metadata": {
        "id": "6ABATEHcKPzn"
      },
      "outputs": [],
      "source": []
    },
    {
      "cell_type": "code",
      "execution_count": null,
      "metadata": {
        "id": "QCA5woI5KPzn"
      },
      "outputs": [],
      "source": []
    },
    {
      "cell_type": "code",
      "execution_count": null,
      "metadata": {
        "id": "pX5N9-AwKPzo"
      },
      "outputs": [],
      "source": []
    },
    {
      "cell_type": "code",
      "execution_count": null,
      "metadata": {
        "id": "0Zn7lvMWKPzo"
      },
      "outputs": [],
      "source": []
    },
    {
      "cell_type": "code",
      "execution_count": null,
      "metadata": {
        "id": "aIBNFFxiKPzo"
      },
      "outputs": [],
      "source": []
    },
    {
      "cell_type": "code",
      "execution_count": null,
      "metadata": {
        "id": "HqBGfhx3KPzo"
      },
      "outputs": [],
      "source": [
        "AI   data >> algorithm >> knowledge >>decision\n",
        "  machine learning > models math\n",
        "\n",
        "    sum\n",
        "    s=x+y   equation\n",
        "\n",
        "        programming\n",
        "        input & equation >> output\n",
        "\n",
        "    ML input & output >> equation   learning\n",
        "    model >> output of the learning\n",
        "    test input equation >> output compare real output >> evaluation   90% accuracy\n",
        "    x=40  temp\n",
        "\n",
        "    real work >> deploy mobile app & desktop app\n",
        "    data augmentation\n",
        "\n",
        "    100 image\n",
        "    70:30 >> 70 training 30 testing\n",
        "        overfitting\n",
        "\n",
        "    Deaplearning > ANN CNN  >>> images  brain\n",
        "\n",
        "    NLP >>text\n",
        "    speech recogniation >>audio\n",
        "\n",
        "    input & output >>  algorithm >> learning   === model\n",
        "\n",
        "    math:\n",
        "        probability\n",
        "        statistics\n",
        "        linear algebra >\n",
        "        caculas\n",
        "\n",
        "\n",
        "    tool python   R\n",
        "\n",
        "    ai\n",
        "    WEB\n",
        "    DATABASE\n",
        "    network programming\n",
        "    programming\n",
        "    syntax  & problem solving\n",
        "python easy to learn simple"
      ]
    },
    {
      "cell_type": "code",
      "execution_count": null,
      "metadata": {
        "id": "82cQXmGMKPzp"
      },
      "outputs": [],
      "source": [
        "anaconda-navigator"
      ]
    },
    {
      "cell_type": "code",
      "execution_count": null,
      "metadata": {
        "id": "NGQw7YeiKPzp"
      },
      "outputs": [],
      "source": [
        "variable declaration\n",
        "\n",
        "5 >> int\n",
        "5.5 >> float\n",
        "'A' >> char\n",
        "'welcome' >> string\n",
        "true >> boolean\n",
        "int x;\n",
        "cin>>x;\n",
        "python data type\n",
        "\n",
        "x=5 >> intger\n",
        "x='A' >> char\n",
        "\n",
        "char >> string of single char\n",
        "\n",
        ";;;;;\n",
        "nnnnnnnnnnnnnnnn   \\\n",
        "ggggggggg \\\n",
        "jjjjjjjjjj\n",
        "statment_1 ; statment_2 ;\n",
        "  for\n",
        "   {\n",
        "    dsd\n",
        "    dd\n",
        "    ddd\n",
        "   }\n",
        "\n",
        "if :\n",
        "  dsd\n",
        "  ddd\n",
        "  dwdw\n",
        "fddfdf\n",
        "for :\n",
        "  ssdsd\n",
        "  dsds\n",
        "  if x>5 :\n",
        "    fdfdf\n",
        "    fdfdf\n",
        "    fdfd\n",
        "  wwewewew\n",
        "  ewewe\n",
        "eweweweweweewew\n",
        "\n",
        "\n",
        "\n",
        "\n",
        "'  ' == \" \"\n",
        "if (fff)\n",
        "{\n",
        "\n",
        "    rre\n",
        "    rere\n",
        "    rere\n",
        "\n",
        "}\n",
        "\n",
        " ;;;;\n",
        "\n",
        "\n",
        "    \\\n"
      ]
    },
    {
      "cell_type": "code",
      "execution_count": null,
      "metadata": {
        "id": "Np5CRu06KPzq"
      },
      "outputs": [],
      "source": [
        "# int x=5\n",
        "#x=5\n",
        "x=True  #integer\n",
        "print(x)\n",
        "print(type(x))\n"
      ]
    },
    {
      "cell_type": "code",
      "execution_count": null,
      "metadata": {
        "id": "t8wvmWQFKPzq"
      },
      "outputs": [],
      "source": [
        "String name=\"hossam\"\n",
        "char v='a'\n",
        "python char  string single char ''  \"\""
      ]
    },
    {
      "cell_type": "code",
      "execution_count": null,
      "metadata": {
        "id": "Ag6cq8VeSrBv"
      },
      "outputs": [],
      "source": [
        "print(\"ahmed's book\")"
      ]
    },
    {
      "cell_type": "code",
      "execution_count": null,
      "metadata": {
        "id": "hVUE-sFaKPzq",
        "scrolled": true
      },
      "outputs": [],
      "source": [
        "\n",
        "print (\"welco'mw\") # Generate \"hello world\".\n",
        "print(\"hello \"\" world\") # Generate \"hello world\". The output is the same when single and double quotation marks are carried in input."
      ]
    },
    {
      "cell_type": "code",
      "execution_count": null,
      "metadata": {
        "id": "z3O0wphjKPzr"
      },
      "outputs": [],
      "source": [
        "print(\"ahmed's book\")"
      ]
    },
    {
      "cell_type": "code",
      "execution_count": null,
      "metadata": {
        "id": "svBDdHCfKPzr"
      },
      "outputs": [],
      "source": [
        "print ('hello world') # Generate \"hello world\".\n",
        "print('hello world') # Generate \"hello world\". The output is the same when single and double quotation marks are carried in input."
      ]
    },
    {
      "cell_type": "markdown",
      "metadata": {
        "id": "fH5SHx-bKPzr"
      },
      "source": [
        "# Data Type"
      ]
    },
    {
      "cell_type": "markdown",
      "metadata": {
        "id": "nkrpvqd_KPzs"
      },
      "source": [
        "## number"
      ]
    },
    {
      "cell_type": "code",
      "execution_count": null,
      "metadata": {
        "colab": {
          "base_uri": "https://localhost:8080/"
        },
        "id": "AHy7gzeeKPzs",
        "outputId": "381392cd-23a1-410f-eee8-dc8fce1a4349",
        "scrolled": true
      },
      "outputs": [
        {
          "name": "stdout",
          "output_type": "stream",
          "text": [
            "False\n"
          ]
        }
      ],
      "source": [
        "print(True and False)# If True is displayed, enter or or perform the OR operation.\n",
        "|| &&"
      ]
    },
    {
      "cell_type": "code",
      "execution_count": null,
      "metadata": {
        "colab": {
          "base_uri": "https://localhost:8080/"
        },
        "id": "mYybYKCnUtkZ",
        "outputId": "b4513414-76a5-4c6f-cb7a-b6178df09e8a"
      },
      "outputs": [
        {
          "name": "stdout",
          "output_type": "stream",
          "text": [
            "6.6\n"
          ]
        }
      ],
      "source": [
        "print(5+1.6) # The output is 6.6. By default, the sum of numbers of different precisions is the number of the highest precision type."
      ]
    },
    {
      "cell_type": "code",
      "execution_count": null,
      "metadata": {
        "id": "QvXvSmQKKPzt"
      },
      "outputs": [],
      "source": [
        "anaconda > python jupyter pandas matplotlib ......"
      ]
    },
    {
      "cell_type": "code",
      "execution_count": null,
      "metadata": {
        "id": "kCWK7wlsKPzt"
      },
      "outputs": [],
      "source": [
        "print(True and False)# The output is 1. By default, True indicates 1, and False indicates 0."
      ]
    },
    {
      "cell_type": "code",
      "execution_count": null,
      "metadata": {
        "colab": {
          "base_uri": "https://localhost:8080/"
        },
        "id": "f70Cza34KPzt",
        "outputId": "57259e6b-8322-462e-afa2-2f13bdc457fc"
      },
      "outputs": [
        {
          "name": "stdout",
          "output_type": "stream",
          "text": [
            "2\n"
          ]
        }
      ],
      "source": [
        "print(5//2)# The output is 2, and // is the rounding operator.\n"
      ]
    },
    {
      "cell_type": "code",
      "execution_count": null,
      "metadata": {
        "id": "xK4xtgNWKPzt"
      },
      "outputs": [],
      "source": [
        "print(5%2)# The output is 1, and % is the modulo operator.\n"
      ]
    },
    {
      "cell_type": "code",
      "execution_count": null,
      "metadata": {
        "colab": {
          "base_uri": "https://localhost:8080/"
        },
        "id": "Am1wo_VvKPzu",
        "outputId": "91c02f9b-e018-4112-b401-39dffb4a0742"
      },
      "outputs": [
        {
          "name": "stdout",
          "output_type": "stream",
          "text": [
            "9\n"
          ]
        }
      ],
      "source": [
        "print(3**2) # The output is 9, and ** indicates the power operation.\n"
      ]
    },
    {
      "cell_type": "code",
      "execution_count": null,
      "metadata": {
        "colab": {
          "base_uri": "https://localhost:8080/"
        },
        "id": "VKPvRj_RKPzu",
        "outputId": "487ff190-d677-49bc-949f-752d07370150"
      },
      "outputs": [
        {
          "name": "stdout",
          "output_type": "stream",
          "text": [
            "2\n"
          ]
        }
      ],
      "source": [
        "print(True+True)# The output is 1. By default, True indicates 1, and False indicates 0.\n"
      ]
    },
    {
      "cell_type": "code",
      "execution_count": null,
      "metadata": {
        "id": "jKl5pSrkKPzu"
      },
      "outputs": [],
      "source": [
        "list  &  tuple   >  array\n",
        "list mutable changable\n",
        "tuple immutable\n",
        "list  & array list > different data types int float string char  bool\n",
        "python  ; not exist\n",
        "\n",
        "\n",
        "\n"
      ]
    },
    {
      "cell_type": "code",
      "execution_count": null,
      "metadata": {
        "id": "fjdw00H3KPzu"
      },
      "outputs": [],
      "source": [
        "#condition   execution based on condtion >>true run\n",
        "# if . st_1 run not cond true run not\n",
        "# more thatn one stat all one stat    if else\n",
        "#   x=5 assign or x==5 compare x=5?\n",
        "x =6\n",
        "if (x==5):\n",
        "\n",
        "    print(x)\n",
        "elif(x==7):\n",
        "    print(x-3)\n",
        "else:\n",
        "    print(x+2)"
      ]
    },
    {
      "cell_type": "code",
      "execution_count": null,
      "metadata": {
        "colab": {
          "base_uri": "https://localhost:8080/"
        },
        "id": "Dx-e5leEKPzu",
        "outputId": "7854e8cf-cf16-4ecc-8388-cdf574acd80f"
      },
      "outputs": [
        {
          "name": "stdout",
          "output_type": "stream",
          "text": [
            "6\n"
          ]
        }
      ],
      "source": [
        "#list declaration\n",
        "#x=[] list tuple()\n",
        "a=['ahmed',5,5.5,True,\"A\",'s']\n",
        "print(len(a)) #lenght of the list"
      ]
    },
    {
      "cell_type": "code",
      "execution_count": null,
      "metadata": {
        "colab": {
          "base_uri": "https://localhost:8080/"
        },
        "id": "DBaef8mtaUYR",
        "outputId": "9f895014-79f5-4598-a896-3ef25cd39339"
      },
      "outputs": [
        {
          "name": "stdout",
          "output_type": "stream",
          "text": [
            "['ahmed', 5, 5.5, True, 'A', 's']\n"
          ]
        }
      ],
      "source": [
        "print(a)"
      ]
    },
    {
      "cell_type": "code",
      "execution_count": null,
      "metadata": {
        "colab": {
          "base_uri": "https://localhost:8080/"
        },
        "id": "RI-MQYt2aks7",
        "outputId": "06325598-2807-4b29-ac1b-25657d49c0a8"
      },
      "outputs": [
        {
          "data": {
            "text/plain": [
              "list"
            ]
          },
          "execution_count": 12,
          "metadata": {},
          "output_type": "execute_result"
        }
      ],
      "source": [
        "type(a)"
      ]
    },
    {
      "cell_type": "code",
      "execution_count": null,
      "metadata": {
        "colab": {
          "base_uri": "https://localhost:8080/"
        },
        "id": "o3x4S8tWKPzv",
        "outputId": "f5447281-0c74-4d99-cc0e-669aa105805a"
      },
      "outputs": [
        {
          "name": "stdout",
          "output_type": "stream",
          "text": [
            "30\n",
            "28\n",
            "26\n",
            "24\n",
            "22\n"
          ]
        }
      ],
      "source": [
        "for i in range(30,20,-2):\n",
        "\n",
        "    print(i)"
      ]
    },
    {
      "cell_type": "code",
      "execution_count": null,
      "metadata": {
        "colab": {
          "base_uri": "https://localhost:8080/"
        },
        "id": "b6NJVz53fRLf",
        "outputId": "e55760e4-2790-4ab3-a7ad-6c65d3a5a728"
      },
      "outputs": [
        {
          "name": "stdout",
          "output_type": "stream",
          "text": [
            "s\n"
          ]
        }
      ],
      "source": [
        "print(a[i])"
      ]
    },
    {
      "cell_type": "code",
      "execution_count": null,
      "metadata": {
        "colab": {
          "base_uri": "https://localhost:8080/"
        },
        "id": "_eIecPzff4tc",
        "outputId": "b83efbd4-6057-40dc-8843-3ccc4820ba84"
      },
      "outputs": [
        {
          "name": "stdout",
          "output_type": "stream",
          "text": [
            "6\n"
          ]
        }
      ],
      "source": [
        "print(len(a))"
      ]
    },
    {
      "cell_type": "code",
      "execution_count": null,
      "metadata": {
        "colab": {
          "base_uri": "https://localhost:8080/"
        },
        "id": "Tq5aNTJDKPzv",
        "outputId": "aaa01981-c7e7-4921-d39e-bc63194556e8"
      },
      "outputs": [
        {
          "name": "stdout",
          "output_type": "stream",
          "text": [
            "0\n",
            "1\n",
            "2\n",
            "3\n",
            "4\n",
            "5\n"
          ]
        }
      ],
      "source": [
        "for i in range(len(a)):   # i > item   a[0]\n",
        "    print(i) # i 0,1,2,3,4,5,6,7,8,......len(a)-1"
      ]
    },
    {
      "cell_type": "code",
      "execution_count": null,
      "metadata": {
        "colab": {
          "base_uri": "https://localhost:8080/"
        },
        "id": "g7tHVkjJKPzv",
        "outputId": "f192e3f4-b830-4d9e-dcaa-729aaf8bffb1"
      },
      "outputs": [
        {
          "name": "stdout",
          "output_type": "stream",
          "text": [
            "ahmed\n",
            "5\n",
            "5.5\n",
            "True\n",
            "A\n",
            "s\n"
          ]
        }
      ],
      "source": [
        "for i in a:  #i << list <<items i<<ahmed , 5 ,5.5 ....\n",
        "    print(i)"
      ]
    },
    {
      "cell_type": "code",
      "execution_count": null,
      "metadata": {
        "colab": {
          "base_uri": "https://localhost:8080/"
        },
        "id": "WuyLCJkMKPzv",
        "outputId": "eb96893e-9c8c-4a18-e602-04ecc821e74f"
      },
      "outputs": [
        {
          "name": "stdout",
          "output_type": "stream",
          "text": [
            "A\n"
          ]
        }
      ],
      "source": [
        "print(a[4])"
      ]
    },
    {
      "cell_type": "code",
      "execution_count": null,
      "metadata": {
        "id": "Mx1eJ8KIKPzw"
      },
      "outputs": [],
      "source": [
        "for i in range(5,3,-2):\n",
        "    print(i)"
      ]
    },
    {
      "cell_type": "code",
      "execution_count": null,
      "metadata": {
        "id": "QWJeRCPoKPzw"
      },
      "outputs": [],
      "source": [
        "for i in range(len(a)):\n",
        "    print(a[i])  # i > index of the item\n"
      ]
    },
    {
      "cell_type": "markdown",
      "metadata": {
        "id": "O5yXucn-KPzw"
      },
      "source": [
        "# Experimental Operations on lists"
      ]
    },
    {
      "cell_type": "markdown",
      "metadata": {
        "id": "05DZCXPUKPz0"
      },
      "source": [
        "### Check if the list is empty"
      ]
    },
    {
      "cell_type": "code",
      "execution_count": null,
      "metadata": {
        "id": "9_7-eaA2KPz1"
      },
      "outputs": [],
      "source": [
        "#python   name = [] list identation the python is consist of :"
      ]
    },
    {
      "cell_type": "code",
      "execution_count": null,
      "metadata": {
        "colab": {
          "base_uri": "https://localhost:8080/"
        },
        "id": "dA9uChq7KPz1",
        "outputId": "7b60411e-721d-4153-fa99-5982c4235380"
      },
      "outputs": [
        {
          "name": "stdout",
          "output_type": "stream",
          "text": [
            "It is not empty list\n"
          ]
        }
      ],
      "source": [
        "items=[3]\n",
        "if len(items) == 0:\n",
        "    print(\"empty list\")\n",
        "else:\n",
        "    print(\"It is not empty list\")"
      ]
    },
    {
      "cell_type": "code",
      "execution_count": null,
      "metadata": {
        "id": "OtJhR_URKPz1"
      },
      "outputs": [],
      "source": [
        "#or items list   []\n",
        "if items == [3,3]:  # if true :run flase skip   items[0]==3 ? items[1]==3?\n",
        "    print(\"empty list\")"
      ]
    },
    {
      "cell_type": "markdown",
      "metadata": {
        "id": "3jHSpc50KPz2"
      },
      "source": [
        "### Copy a list."
      ]
    },
    {
      "cell_type": "code",
      "execution_count": null,
      "metadata": {
        "colab": {
          "base_uri": "https://localhost:8080/"
        },
        "id": "G-VuFYLdKPz2",
        "outputId": "858cac88-62c8-46be-dc3b-07c517f224cd"
      },
      "outputs": [
        {
          "name": "stdout",
          "output_type": "stream",
          "text": [
            "['hello', 'Jeary', 'ali', 'mohamed', 'mahmoud', '4', 5, 6]\n"
          ]
        }
      ],
      "source": [
        "#Method one:\n",
        "old_list=[\"hello\",\"Jeary\",'ali','mohamed','mahmoud','4',5,6]\n",
        "print(old_list)"
      ]
    },
    {
      "cell_type": "code",
      "execution_count": null,
      "metadata": {
        "colab": {
          "base_uri": "https://localhost:8080/"
        },
        "id": "36jX8IDCKPz2",
        "outputId": "05d22ea4-38ea-4546-d179-604af6fc6ed0"
      },
      "outputs": [
        {
          "name": "stdout",
          "output_type": "stream",
          "text": [
            "['hello', 'Jeary', 'ali', 'mohamed', 'mahmoud', '4', 5, 6]\n"
          ]
        }
      ],
      "source": [
        "print(old_list[:])   # [1],[2]"
      ]
    },
    {
      "cell_type": "code",
      "execution_count": null,
      "metadata": {
        "colab": {
          "base_uri": "https://localhost:8080/"
        },
        "id": "OsodM1neKPz2",
        "outputId": "6d40f341-4d4d-4b0e-aef5-cbeb76721bcd"
      },
      "outputs": [
        {
          "name": "stdout",
          "output_type": "stream",
          "text": [
            "['hello', 'Jeary', 'ali', 'mohamed', 'mahmoud', '4', 5, 6]\n",
            "['hello', 'Jeary', 'ali', 'mohamed', 'mahmoud', '4', 5, 6]\n"
          ]
        }
      ],
      "source": [
        "new_list = old_list  # by new->reference<-old & by value == copy\n",
        "print(new_list)\n",
        "print(old_list)\n"
      ]
    },
    {
      "cell_type": "code",
      "execution_count": null,
      "metadata": {
        "colab": {
          "base_uri": "https://localhost:8080/"
        },
        "id": "xtl6Hv-tKPz3",
        "outputId": "83a1480f-89a7-4acb-efdc-29013e71e3e5"
      },
      "outputs": [
        {
          "name": "stdout",
          "output_type": "stream",
          "text": [
            "['hello', 'Jeary', 'ali', 'mohamed', 'mahmoud', '4', 5, 6, 'ahmed']\n",
            "['hello', 'Jeary', 'ali', 'mohamed', 'mahmoud', '4', 5, 6, 'ahmed']\n",
            "139819762603136\n",
            "139819762603136\n"
          ]
        }
      ],
      "source": [
        "# list tuple list append insert delete $$ copy by value copy by reference  newlist> =+=<oldlist\n",
        "new_list.append('ahmed')\n",
        "print(new_list)\n",
        "print(old_list)\n",
        "print(id(new_list))\n",
        "print(id(old_list))"
      ]
    },
    {
      "cell_type": "code",
      "execution_count": null,
      "metadata": {
        "colab": {
          "base_uri": "https://localhost:8080/"
        },
        "id": "wXKDkZc5KPz3",
        "outputId": "0c8ff9dd-80d2-4fcf-b741-654cd2fec89c"
      },
      "outputs": [
        {
          "name": "stdout",
          "output_type": "stream",
          "text": [
            "['hello', 'Jeary', 'ali', 'mohamed', 'mahmoud', '4', 5, 6, 'ahmed', 'xxxxxxxxxx']\n",
            "['hello', 'Jeary', 'ali', 'mohamed', 'mahmoud', '4', 5, 6, 'ahmed']\n",
            "139819604959104\n",
            "139819762603136\n"
          ]
        }
      ],
      "source": [
        "new_list2 = old_list[:]  # by value\n",
        "new_list2.append('xxxxxxxxxx')\n",
        "print(new_list2)\n",
        "print(old_list)\n",
        "print(id(new_list2))\n",
        "print(id(old_list))"
      ]
    },
    {
      "cell_type": "code",
      "execution_count": null,
      "metadata": {
        "id": "5H6lyVbuKPz3"
      },
      "outputs": [],
      "source": [
        "print(old_list[0:120])\n",
        "#print(old_list[1])"
      ]
    },
    {
      "cell_type": "code",
      "execution_count": null,
      "metadata": {
        "colab": {
          "base_uri": "https://localhost:8080/"
        },
        "id": "0yPV2rgiKPz3",
        "outputId": "05089b9e-e999-400c-b914-de561794bb72"
      },
      "outputs": [
        {
          "name": "stdout",
          "output_type": "stream",
          "text": [
            "['hello', 'Jeary', 'ali', 'mohamed', 'mahmoud', '4', 5, 6, 'ahmed', 4]\n",
            "['hello', 'Jeary', 'ali', 'mohamed', 'mahmoud', '4', 5, 6, 'ahmed']\n"
          ]
        }
      ],
      "source": [
        "#Method two: by value\n",
        "new_list = list(old_list)\n",
        "new_list.append(4)\n",
        "print(new_list)\n",
        "print(old_list)\n"
      ]
    },
    {
      "cell_type": "code",
      "execution_count": null,
      "metadata": {
        "colab": {
          "base_uri": "https://localhost:8080/"
        },
        "id": "ZNt-99w-KPz3",
        "outputId": "cc9c2975-d7dd-4dce-d4f4-dcf42f2433ed"
      },
      "outputs": [
        {
          "name": "stdout",
          "output_type": "stream",
          "text": [
            "['hello', 'Jeary', 'ali', 'mohamed', 'mahmoud', '4', 5, 6, 'ahmed', 'wwwww']\n",
            "['hello', 'Jeary', 'ali', 'mohamed', 'mahmoud', '4', 5, 6, 'ahmed', 4]\n"
          ]
        }
      ],
      "source": [
        "#Method three: value\n",
        "from copy import copy #module class copy function\n",
        "\n",
        "new_list1 = copy(old_list)# copy\n",
        "new_list1.append(\"wwwww\")\n",
        "print(new_list1)\n",
        "print(new_list)"
      ]
    },
    {
      "cell_type": "code",
      "execution_count": null,
      "metadata": {
        "id": "MUbJhMcKKPz4"
      },
      "outputs": [],
      "source": [
        "import copy #module class\n",
        "new_list3=copy.copy(old_list)"
      ]
    },
    {
      "cell_type": "code",
      "execution_count": null,
      "metadata": {
        "id": "QrweHFJ6KPz4"
      },
      "outputs": [],
      "source": [
        "from copy import copy\n",
        "new_list=copy(old_list)"
      ]
    },
    {
      "cell_type": "code",
      "execution_count": null,
      "metadata": {
        "id": "K1FZXxDdKPz4"
      },
      "outputs": [],
      "source": [
        "quality  of the program\n",
        "time complexity\n",
        "space complexity"
      ]
    },
    {
      "cell_type": "code",
      "execution_count": null,
      "metadata": {
        "id": "thMj4W6pKPz4"
      },
      "outputs": [],
      "source": [
        "new=old_list.copy()\n",
        "new"
      ]
    },
    {
      "cell_type": "markdown",
      "metadata": {
        "id": "T1gm_5ZqKPz5"
      },
      "source": [
        "### Get the last element of a list.\n",
        "Elements in an index list can be positive or negative numbers. Positive numbers mean indexing from the left of list, while negative numbers mean indexing from the right of list. There are two methods to get the last element.\n"
      ]
    },
    {
      "cell_type": "code",
      "execution_count": null,
      "metadata": {
        "colab": {
          "base_uri": "https://localhost:8080/"
        },
        "id": "Q96GbxW-KPz5",
        "outputId": "0acbf8cc-034d-4b8f-9b6f-90d52c1def03"
      },
      "outputs": [
        {
          "name": "stdout",
          "output_type": "stream",
          "text": [
            "the length of the list 10\n"
          ]
        },
        {
          "data": {
            "text/plain": [
              "100"
            ]
          },
          "execution_count": 57,
          "metadata": {},
          "output_type": "execute_result"
        }
      ],
      "source": [
        "a = [1, 2, 3, 4, 5, 6, 7, 8, 9, 100]\n",
        "print(\"the length of the list\",len(a))\n",
        "\n",
        "a[len(a)-1]"
      ]
    },
    {
      "cell_type": "code",
      "execution_count": null,
      "metadata": {
        "colab": {
          "base_uri": "https://localhost:8080/"
        },
        "id": "HYzqJyL3KPz5",
        "outputId": "cec47a46-b88e-40d4-ea24-adc98e3b4459"
      },
      "outputs": [
        {
          "data": {
            "text/plain": [
              "9"
            ]
          },
          "execution_count": 60,
          "metadata": {},
          "output_type": "execute_result"
        }
      ],
      "source": [
        "a[-2]"
      ]
    },
    {
      "cell_type": "code",
      "execution_count": null,
      "metadata": {
        "colab": {
          "base_uri": "https://localhost:8080/"
        },
        "id": "660116fcKPz6",
        "outputId": "e6e8cb1e-af95-420b-8c7a-965af5609edb"
      },
      "outputs": [
        {
          "name": "stdout",
          "output_type": "stream",
          "text": [
            "1\n",
            "1\n"
          ]
        }
      ],
      "source": [
        "print(a[0])\n",
        "print(a[-10])"
      ]
    },
    {
      "cell_type": "markdown",
      "metadata": {
        "id": "6vesFyauKPz6"
      },
      "source": [
        "### Sort lists.\n",
        "You can use two ways to sort lists. Python lists have a sort method and a built-in function (sorted). You can sort complicated data types by specifying key arguments. You can sort lists composed of dictionaries according to the age fields of elements in the dictionaries."
      ]
    },
    {
      "cell_type": "code",
      "execution_count": null,
      "metadata": {
        "id": "VZvG78QTKPz6"
      },
      "outputs": [],
      "source": [
        "items = [{'name': 'Homer', 'age': 5},{'name': 'Bart', 'age': 10},{\"name\": 'Cater', 'age': 20}]\n",
        "items.sort(key=lambda item: item.get(\"age\"))\n",
        "print(items)"
      ]
    },
    {
      "cell_type": "code",
      "execution_count": null,
      "metadata": {
        "id": "7W0xJXfdKPz6"
      },
      "outputs": [],
      "source": [
        "help(items.sort)"
      ]
    },
    {
      "cell_type": "code",
      "execution_count": null,
      "metadata": {
        "colab": {
          "base_uri": "https://localhost:8080/"
        },
        "id": "vHd9XYoQKPz7",
        "outputId": "54308a0b-4953-4a12-bff4-2bd99884d62a"
      },
      "outputs": [
        {
          "name": "stdout",
          "output_type": "stream",
          "text": [
            "['Mahmoud', 'ali', 'hello', 'jeary', 'mohamed']\n"
          ]
        }
      ],
      "source": [
        "old_list=[\"hello\",\"jeary\",'ali','mohamed','Mahmoud']\n",
        "old_list.sort(reverse=False)\n",
        "print(old_list)"
      ]
    },
    {
      "cell_type": "markdown",
      "metadata": {
        "id": "2LNO0Q_uKPz7"
      },
      "source": [
        "### Remove elements from a list.\n",
        "The \"remove\" method removes an element, and it removes only the element that appears for the first time."
      ]
    },
    {
      "cell_type": "code",
      "execution_count": null,
      "metadata": {
        "colab": {
          "base_uri": "https://localhost:8080/"
        },
        "id": "55VroHCbKPz7",
        "outputId": "c545a31d-e51b-43d3-e131-09233615a390"
      },
      "outputs": [
        {
          "name": "stdout",
          "output_type": "stream",
          "text": [
            "[0, 5, 2, 2, 3, 3]\n"
          ]
        }
      ],
      "source": [
        "# append in the end specific position  insert\n",
        "a = [0, 2, 2, 3,3]\n",
        "a.insert(1,5) # index, value\n",
        "print(a)"
      ]
    },
    {
      "cell_type": "code",
      "execution_count": null,
      "metadata": {
        "colab": {
          "base_uri": "https://localhost:8080/"
        },
        "id": "yWkJ9UMFKPz7",
        "outputId": "da0ddb62-de6f-4a52-a9d3-580e1e85c758"
      },
      "outputs": [
        {
          "data": {
            "text/plain": [
              "[0, 5, 2, 3, 50, 2, 3]"
            ]
          },
          "execution_count": 71,
          "metadata": {},
          "output_type": "execute_result"
        }
      ],
      "source": [
        "a.insert(3,3)\n",
        "a"
      ]
    },
    {
      "cell_type": "code",
      "execution_count": null,
      "metadata": {
        "id": "o_qC6bgkKPz8"
      },
      "outputs": [],
      "source": [
        "a.remove(3)"
      ]
    },
    {
      "cell_type": "code",
      "execution_count": null,
      "metadata": {
        "colab": {
          "base_uri": "https://localhost:8080/"
        },
        "id": "ZinSG3-5KPz8",
        "outputId": "f1befeb8-e44d-433f-b89c-14ba876f9186"
      },
      "outputs": [
        {
          "data": {
            "text/plain": [
              "[0, 5, 2, 50, 2, 3]"
            ]
          },
          "execution_count": 68,
          "metadata": {},
          "output_type": "execute_result"
        }
      ],
      "source": [
        "a"
      ]
    },
    {
      "cell_type": "code",
      "execution_count": null,
      "metadata": {
        "colab": {
          "base_uri": "https://localhost:8080/"
        },
        "id": "Addotrm23qUN",
        "outputId": "aec779ca-2a3f-4b08-ccba-40ec00685026"
      },
      "outputs": [
        {
          "name": "stdout",
          "output_type": "stream",
          "text": [
            "a\n",
            "l\n",
            "i\n"
          ]
        }
      ],
      "source": [
        "s='ali'\n",
        "for i in s:\n",
        "  print(i)"
      ]
    },
    {
      "cell_type": "code",
      "execution_count": null,
      "metadata": {
        "colab": {
          "base_uri": "https://localhost:8080/"
        },
        "id": "b7pZGxql39vH",
        "outputId": "68b64304-e70b-4cbb-a59f-36a14a7c34f4"
      },
      "outputs": [
        {
          "data": {
            "text/plain": [
              "[0, 5, 2, 3, 50, 2, 3]"
            ]
          },
          "execution_count": 72,
          "metadata": {},
          "output_type": "execute_result"
        }
      ],
      "source": [
        "a"
      ]
    },
    {
      "cell_type": "code",
      "execution_count": null,
      "metadata": {
        "colab": {
          "base_uri": "https://localhost:8080/"
        },
        "id": "ZTv3s33FKPz9",
        "outputId": "9102626d-fdad-4d26-e745-89cd45416ddd"
      },
      "outputs": [
        {
          "data": {
            "text/plain": [
              "[0, 5, 2, 50, 2]"
            ]
          },
          "execution_count": 73,
          "metadata": {},
          "output_type": "execute_result"
        }
      ],
      "source": [
        "# remove all 3 items in the list\n",
        "for i in a:# a list items for i in a i << item of items\n",
        "    if i==3:\n",
        "        a.remove(i)\n",
        "a"
      ]
    },
    {
      "cell_type": "code",
      "execution_count": null,
      "metadata": {
        "id": "mOqNBQ09KPz9"
      },
      "outputs": [],
      "source": [
        "a.remove(a[3])\n",
        "a"
      ]
    },
    {
      "cell_type": "code",
      "execution_count": null,
      "metadata": {
        "id": "pdVBNABsKP0A"
      },
      "outputs": [],
      "source": [
        "#print(id(a))\n",
        "print(a.index(5))\n",
        "#print(id(a))\n",
        "a"
      ]
    },
    {
      "cell_type": "markdown",
      "metadata": {
        "id": "_FkPobbeKP0B"
      },
      "source": [
        "# type(a)"
      ]
    },
    {
      "cell_type": "code",
      "execution_count": null,
      "metadata": {
        "id": "UbZVX_jCKP0B"
      },
      "outputs": [],
      "source": [
        "# ValueError will be returned if the removed element is not within the list.\n",
        "a.remove(a[2])"
      ]
    },
    {
      "cell_type": "code",
      "execution_count": null,
      "metadata": {
        "id": "yixOxt-vKP0B"
      },
      "outputs": [],
      "source": [
        "type(a)\n"
      ]
    },
    {
      "cell_type": "markdown",
      "metadata": {
        "id": "O4aA7tc_KP0B"
      },
      "source": [
        "### Connect two lists."
      ]
    },
    {
      "cell_type": "code",
      "execution_count": null,
      "metadata": {
        "colab": {
          "base_uri": "https://localhost:8080/"
        },
        "id": "LZ92N-MQKP0C",
        "outputId": "b73e025d-3b3d-41b0-8bf6-599162ac6bfc"
      },
      "outputs": [
        {
          "name": "stdout",
          "output_type": "stream",
          "text": [
            "[1, 2, 3, 4, 5, 6]\n",
            "[1, 2, 3]\n",
            "[4, 5, 6]\n",
            "[1, 2, 3, [4, 5, 6]]\n"
          ]
        }
      ],
      "source": [
        "listone = [1, 2, 3]\n",
        "listtwo = [4, 5, 6]\n",
        "mergedlist =  listone  + listtwo\n",
        "print(mergedlist)\n",
        "print(listone)\n",
        "print(listtwo)\n",
        "listone.append(listtwo)\n",
        "print(listone)\n"
      ]
    },
    {
      "cell_type": "code",
      "execution_count": null,
      "metadata": {
        "colab": {
          "base_uri": "https://localhost:8080/"
        },
        "id": "LgSSpe0I8qOV",
        "outputId": "267a5556-58b7-405f-dec7-b87bdcfb097c"
      },
      "outputs": [
        {
          "name": "stdout",
          "output_type": "stream",
          "text": [
            "5\n",
            "7\n",
            "9\n"
          ]
        }
      ],
      "source": [
        "listone = [1, 2, 3]\n",
        "listtwo = [4, 5, 6]\n",
        "mergedlist=[]\n",
        "\n",
        "for i in range(len(listone)):\n",
        "\n",
        "  mergedlist.append (listone[i]  + listtwo[i])\n",
        "print(mergedlist)"
      ]
    },
    {
      "cell_type": "code",
      "execution_count": null,
      "metadata": {
        "colab": {
          "base_uri": "https://localhost:8080/"
        },
        "id": "sgxkpyWa9icu",
        "outputId": "72dd9855-e503-4ea5-9bbe-329338308517"
      },
      "outputs": [
        {
          "name": "stdout",
          "output_type": "stream",
          "text": [
            "10\n",
            "10\n"
          ]
        }
      ],
      "source": [
        "#  on the fly\n",
        "x=6\n",
        "y=4\n",
        "print(x+y)\n",
        "z=x+y\n",
        "print(z)"
      ]
    },
    {
      "cell_type": "code",
      "execution_count": null,
      "metadata": {
        "colab": {
          "base_uri": "https://localhost:8080/"
        },
        "id": "QJ3RJ_4G6qa9",
        "outputId": "1c36f2d8-e4a5-49c9-9998-195cdb654a04"
      },
      "outputs": [
        {
          "data": {
            "text/plain": [
              "5"
            ]
          },
          "execution_count": 78,
          "metadata": {},
          "output_type": "execute_result"
        }
      ],
      "source": [
        "listone[3][1]"
      ]
    },
    {
      "cell_type": "code",
      "execution_count": null,
      "metadata": {
        "id": "Sjc7fYgmKP0C"
      },
      "outputs": [],
      "source": [
        "listthree=[]\n",
        "for i in range(3):\n",
        "    listthree.append(listone[i]+listtwo[i])\n",
        "listthree"
      ]
    },
    {
      "cell_type": "code",
      "execution_count": null,
      "metadata": {
        "colab": {
          "base_uri": "https://localhost:8080/"
        },
        "id": "HbfPG4CtKP0C",
        "outputId": "967e7adb-7272-4eef-b9ca-357588f89e7f"
      },
      "outputs": [
        {
          "name": "stdout",
          "output_type": "stream",
          "text": [
            "[1, 2, 3, 4, 5, 6]\n",
            "[4, 5, 6]\n"
          ]
        }
      ],
      "source": [
        "#print(mergedlist)\n",
        "listone.extend(listtwo)\n",
        "print(listone)\n",
        "print(listtwo)\n"
      ]
    },
    {
      "cell_type": "code",
      "execution_count": null,
      "metadata": {
        "id": "W6AG8V0x-Z0t"
      },
      "outputs": [],
      "source": [
        "x=5\n",
        "y=x+2"
      ]
    },
    {
      "cell_type": "code",
      "execution_count": null,
      "metadata": {
        "id": "mrfY6EM4KP0C"
      },
      "outputs": [],
      "source": [
        "#print(mergedlist)\n",
        "listone.append(listtwo)\n",
        "print(listone)\n",
        "print(listtwo)\n"
      ]
    },
    {
      "cell_type": "code",
      "execution_count": null,
      "metadata": {
        "id": "OKWumRBFKP0D"
      },
      "outputs": [],
      "source": [
        "listone[6]"
      ]
    },
    {
      "cell_type": "code",
      "execution_count": null,
      "metadata": {
        "id": "onGEqaSdKP0D"
      },
      "outputs": [],
      "source": [
        "listone+= listtwo   # listone=listone+listtwo\n",
        "print(listone)\n",
        "print(listtwo)"
      ]
    },
    {
      "cell_type": "markdown",
      "metadata": {
        "id": "3EH0EnzLKP0D"
      },
      "source": [
        "# Experimental Operations on Tuples"
      ]
    },
    {
      "cell_type": "code",
      "execution_count": null,
      "metadata": {
        "id": "BJVy2vxxKP0D"
      },
      "outputs": [],
      "source": [
        "listone.append([1,23,3])\n",
        "print(listone)\n",
        "print(len(listone))\n",
        "\n"
      ]
    },
    {
      "cell_type": "code",
      "execution_count": null,
      "metadata": {
        "id": "sUcDyijpKP0E"
      },
      "outputs": [],
      "source": [
        "listone[10][0]"
      ]
    },
    {
      "cell_type": "markdown",
      "metadata": {
        "id": "9AFBANegKP0E"
      },
      "source": [
        "This section describes related operations on tuples.  \n",
        "Another type of ordered lists is called tuples and is expressed in(). Similar to a list, a tuple cannot be changed after being initialized. Elements must be determined when a tuple is defined.  \n",
        "A tuple has no append() and insert() methods and cannot be assigned as another element. The method for getting a tuple is similar to that for getting a list.  \n",
        "As tuples are unchangeable, code is more secure. Therefore, if possible, use tuples instead of lists.  \n"
      ]
    },
    {
      "cell_type": "markdown",
      "metadata": {
        "id": "AOoyxrk9KP0E"
      },
      "source": [
        "## Define a tuple for an element."
      ]
    },
    {
      "cell_type": "code",
      "execution_count": null,
      "metadata": {
        "colab": {
          "base_uri": "https://localhost:8080/"
        },
        "id": "kyE77Vb_KP0E",
        "outputId": "1b981750-91a9-4171-8844-47ace72d4ad5"
      },
      "outputs": [
        {
          "data": {
            "text/plain": [
              "(1, 5, 'hello')"
            ]
          },
          "execution_count": 84,
          "metadata": {},
          "output_type": "execute_result"
        }
      ],
      "source": [
        "t=(1,5,'hello')  #  [] list  () tuple\n",
        "t"
      ]
    },
    {
      "cell_type": "code",
      "execution_count": null,
      "metadata": {
        "colab": {
          "base_uri": "https://localhost:8080/"
        },
        "id": "vS9NDzjvKP0E",
        "outputId": "d9c8881f-9bb4-438c-fe37-4fc909e975a3"
      },
      "outputs": [
        {
          "data": {
            "text/plain": [
              "tuple"
            ]
          },
          "execution_count": 85,
          "metadata": {},
          "output_type": "execute_result"
        }
      ],
      "source": [
        "type(t)"
      ]
    },
    {
      "cell_type": "code",
      "execution_count": null,
      "metadata": {
        "colab": {
          "base_uri": "https://localhost:8080/",
          "height": 166
        },
        "id": "J9Ny-EUc_ZoN",
        "outputId": "6dac1a02-c485-4d4c-8528-81b8db07d688"
      },
      "outputs": [
        {
          "ename": "AttributeError",
          "evalue": "ignored",
          "output_type": "error",
          "traceback": [
            "\u001b[0;31m---------------------------------------------------------------------------\u001b[0m",
            "\u001b[0;31mAttributeError\u001b[0m                            Traceback (most recent call last)",
            "\u001b[0;32m<ipython-input-86-a45b6122f921>\u001b[0m in \u001b[0;36m<cell line: 1>\u001b[0;34m()\u001b[0m\n\u001b[0;32m----> 1\u001b[0;31m \u001b[0mt\u001b[0m\u001b[0;34m.\u001b[0m\u001b[0mappend\u001b[0m\u001b[0;34m(\u001b[0m\u001b[0;34m'asd'\u001b[0m\u001b[0;34m)\u001b[0m\u001b[0;34m\u001b[0m\u001b[0;34m\u001b[0m\u001b[0m\n\u001b[0m",
            "\u001b[0;31mAttributeError\u001b[0m: 'tuple' object has no attribute 'append'"
          ]
        }
      ],
      "source": [
        "t.append('asd')"
      ]
    },
    {
      "cell_type": "code",
      "execution_count": null,
      "metadata": {
        "colab": {
          "base_uri": "https://localhost:8080/"
        },
        "id": "4MVeW6SIKP0F",
        "outputId": "729dc1fc-7e3b-4d57-8c38-44046da49076"
      },
      "outputs": [
        {
          "name": "stdout",
          "output_type": "stream",
          "text": [
            "(3, (3, 4))\n"
          ]
        }
      ],
      "source": [
        "t2=(1,)\n",
        "t3=(1)\n",
        "t4=3,4\n",
        "t5=3,t4\n",
        "print(t5)"
      ]
    },
    {
      "cell_type": "code",
      "execution_count": null,
      "metadata": {
        "colab": {
          "base_uri": "https://localhost:8080/"
        },
        "id": "IfD-V_rzKP0F",
        "outputId": "3b45ad04-466c-4599-ae1c-c4e003f5f948"
      },
      "outputs": [
        {
          "name": "stdout",
          "output_type": "stream",
          "text": [
            "<class 'tuple'>\n",
            "<class 'int'>\n",
            "<class 'tuple'>\n",
            "<class 'tuple'>\n"
          ]
        }
      ],
      "source": [
        "print(type(t2))\n",
        "print(type(t3))\n",
        "print(type(t4))\n",
        "print(type(t5))"
      ]
    },
    {
      "cell_type": "code",
      "execution_count": null,
      "metadata": {
        "id": "1YRed_pdKP0F"
      },
      "outputs": [],
      "source": [
        "print((t2))\n",
        "print((t3))\n",
        "print((t4))\n",
        "print((t5))"
      ]
    },
    {
      "cell_type": "code",
      "execution_count": null,
      "metadata": {
        "colab": {
          "base_uri": "https://localhost:8080/"
        },
        "id": "z_bT0yiEKP0F",
        "outputId": "196f1613-43b8-4a0f-d9bc-217842db8523"
      },
      "outputs": [
        {
          "name": "stdout",
          "output_type": "stream",
          "text": [
            "please inter the item5\n",
            "please inter the item6\n",
            "please inter the item7\n",
            "please inter the item8\n",
            "please inter the item9\n"
          ]
        }
      ],
      "source": [
        "items=[]\n",
        "for i in range(5):\n",
        "    x=float(input(\"please inter the item\"))\n",
        "    items.append(x)"
      ]
    },
    {
      "cell_type": "code",
      "execution_count": null,
      "metadata": {
        "colab": {
          "base_uri": "https://localhost:8080/",
          "height": 166
        },
        "id": "8IAjclPOKP0G",
        "outputId": "68f61fdc-8117-4105-bd40-67ed003f3386"
      },
      "outputs": [
        {
          "ename": "AttributeError",
          "evalue": "ignored",
          "output_type": "error",
          "traceback": [
            "\u001b[0;31m---------------------------------------------------------------------------\u001b[0m",
            "\u001b[0;31mAttributeError\u001b[0m                            Traceback (most recent call last)",
            "\u001b[0;32m<ipython-input-103-11859db4879c>\u001b[0m in \u001b[0;36m<cell line: 1>\u001b[0;34m()\u001b[0m\n\u001b[0;32m----> 1\u001b[0;31m \u001b[0mitems\u001b[0m\u001b[0;34m.\u001b[0m\u001b[0mappend\u001b[0m\u001b[0;34m(\u001b[0m\u001b[0;36m4\u001b[0m\u001b[0;34m)\u001b[0m\u001b[0;34m\u001b[0m\u001b[0;34m\u001b[0m\u001b[0m\n\u001b[0m",
            "\u001b[0;31mAttributeError\u001b[0m: 'tuple' object has no attribute 'append'"
          ]
        }
      ],
      "source": [
        "items.append(4)"
      ]
    },
    {
      "cell_type": "code",
      "execution_count": null,
      "metadata": {
        "id": "qMZN0g8DKP0G"
      },
      "outputs": [],
      "source": [
        "items=tuple(items)"
      ]
    },
    {
      "cell_type": "code",
      "execution_count": null,
      "metadata": {
        "colab": {
          "base_uri": "https://localhost:8080/"
        },
        "id": "m_5rbJvfKP0G",
        "outputId": "ac4d1cde-ac52-4580-8ae1-d5b8bf1e5f96"
      },
      "outputs": [
        {
          "data": {
            "text/plain": [
              "tuple"
            ]
          },
          "execution_count": 102,
          "metadata": {},
          "output_type": "execute_result"
        }
      ],
      "source": [
        "type(items)"
      ]
    },
    {
      "cell_type": "code",
      "execution_count": null,
      "metadata": {
        "id": "YNEDlFoSKP0G"
      },
      "outputs": [],
      "source": [
        "x=()\n",
        "type(x)"
      ]
    },
    {
      "cell_type": "markdown",
      "metadata": {
        "id": "2BulUVfzKP0H"
      },
      "source": [
        "Note: In t=(1), t is not a tuple type, as the parentheses () can represent a tuple, or mathematical formula. Python stipulates that in this case, () is a mathematical formula, and a tuple with only one element must have a comma to eliminate ambiguity."
      ]
    },
    {
      "cell_type": "markdown",
      "metadata": {
        "id": "DzXObYRxKP0H"
      },
      "source": [
        "## Define a 'changeable tuple'."
      ]
    },
    {
      "cell_type": "code",
      "execution_count": null,
      "metadata": {
        "colab": {
          "base_uri": "https://localhost:8080/"
        },
        "id": "fM4KCAhjKP0H",
        "outputId": "2e8071fb-ea56-4736-cc70-0403dd9fcf40"
      },
      "outputs": [
        {
          "name": "stdout",
          "output_type": "stream",
          "text": [
            "['x', 'ali', ('yi', 'er', 'san'), ('one', 'two', 'three'), (1, 2, 3), [1.1, 2.2], 'language']\n"
          ]
        }
      ],
      "source": [
        "cn=('yi','er','san')\n",
        "en=('one','two','three')\n",
        "num=(1,2,3)\n",
        "x='ali'\n",
        "tmp=['x',x,cn,en,num,[1.1,2.2],'language']\n",
        "print(tmp)"
      ]
    },
    {
      "cell_type": "code",
      "execution_count": null,
      "metadata": {
        "colab": {
          "base_uri": "https://localhost:8080/"
        },
        "id": "ZvG_VMQ1KP0H",
        "outputId": "483cf9a6-3793-4378-d110-efc9ac84ebda"
      },
      "outputs": [
        {
          "name": "stdout",
          "output_type": "stream",
          "text": [
            "('yi', 'er', 'san')\n"
          ]
        }
      ],
      "source": [
        "print(tmp[2])"
      ]
    },
    {
      "cell_type": "code",
      "execution_count": null,
      "metadata": {
        "colab": {
          "base_uri": "https://localhost:8080/"
        },
        "id": "iLbs4mYQKP0H",
        "outputId": "0ba1245c-aee3-4379-e3de-42df8a75ab58"
      },
      "outputs": [
        {
          "name": "stdout",
          "output_type": "stream",
          "text": [
            "er\n"
          ]
        }
      ],
      "source": [
        "print(tmp[2][1])"
      ]
    },
    {
      "cell_type": "code",
      "execution_count": null,
      "metadata": {
        "colab": {
          "base_uri": "https://localhost:8080/"
        },
        "id": "6eB8RF_jKP0H",
        "outputId": "c569c9f5-caae-4af9-e303-945521b86eb4"
      },
      "outputs": [
        {
          "name": "stdout",
          "output_type": "stream",
          "text": [
            "r\n"
          ]
        }
      ],
      "source": [
        "print(tmp[2][1][1])"
      ]
    },
    {
      "cell_type": "code",
      "execution_count": null,
      "metadata": {
        "colab": {
          "base_uri": "https://localhost:8080/"
        },
        "id": "GyYYQEniKP0I",
        "outputId": "8ab30a28-1297-4f1a-bf05-55d431910ddf"
      },
      "outputs": [
        {
          "name": "stdout",
          "output_type": "stream",
          "text": [
            "('ali', 'mohamed', 'x', '5')\n"
          ]
        }
      ],
      "source": [
        "a= ('ali','mohamed','x',\"5\")\n",
        "print(a)"
      ]
    },
    {
      "cell_type": "code",
      "execution_count": null,
      "metadata": {
        "colab": {
          "base_uri": "https://localhost:8080/"
        },
        "id": "QXeJtuTy0xSj",
        "outputId": "68d11c81-8d0b-4745-90b1-9db1f2f3c9b8"
      },
      "outputs": [
        {
          "name": "stdout",
          "output_type": "stream",
          "text": [
            "ali\n",
            "mohamed\n",
            "x\n",
            "5\n"
          ]
        }
      ],
      "source": [
        "for i in a :\n",
        "    print(i)  # endl  \\n new line"
      ]
    },
    {
      "cell_type": "code",
      "execution_count": null,
      "metadata": {
        "colab": {
          "base_uri": "https://localhost:8080/"
        },
        "id": "bSMdTa7VKP0I",
        "outputId": "299812bb-91a4-4c61-e7ad-e9990298608c"
      },
      "outputs": [
        {
          "name": "stdout",
          "output_type": "stream",
          "text": [
            "ali mohamed x 5 "
          ]
        }
      ],
      "source": [
        "for i in a :# i>> a list items i ==item\n",
        "    print(i,end=' ')"
      ]
    },
    {
      "cell_type": "code",
      "execution_count": null,
      "metadata": {
        "colab": {
          "base_uri": "https://localhost:8080/"
        },
        "id": "sBgKwqZwKP0I",
        "outputId": "a7bff09f-a00d-4347-f40a-d0099781a542"
      },
      "outputs": [
        {
          "name": "stdout",
          "output_type": "stream",
          "text": [
            "0\n",
            "1\n",
            "2\n",
            "3\n"
          ]
        }
      ],
      "source": [
        "for i in range(4):# 0,1,2,3\n",
        "\n",
        "# 1. 5 0,1,2,3,4  2. 5,10 > 5,6,7,8,9 3. 5,10,2 > 5,7,9\n",
        "    print(a[i])"
      ]
    },
    {
      "cell_type": "code",
      "execution_count": null,
      "metadata": {
        "colab": {
          "base_uri": "https://localhost:8080/"
        },
        "id": "LwCw6NBLKP0I",
        "outputId": "a1fe674c-f33b-4349-daad-1c329fdd656d"
      },
      "outputs": [
        {
          "name": "stdout",
          "output_type": "stream",
          "text": [
            "a\tl\ti\t\n",
            "m\to\th\ta\tm\te\td\t\n",
            "x\t\n",
            "5\t\n"
          ]
        }
      ],
      "source": [
        "for i in a:  # i='ali' > i='a' > j='l' > j='i'\n",
        "    for j in i: # i=ali , j 'a','l','i'\n",
        "\n",
        "        print(j,end=\"\\t\")  #a l i\n",
        "\n",
        "    print()"
      ]
    },
    {
      "cell_type": "code",
      "execution_count": null,
      "metadata": {
        "id": "cCWr3UFPKP0I"
      },
      "outputs": [],
      "source": [
        "for i in range(len(a)):   # 6  0:5, 1,6 > 1:5,  5,10,2 > 5,7,9 1:5 1,2,3,4  range 5 0,1,2,3,4    len 5\n",
        "    print(a[i])"
      ]
    },
    {
      "cell_type": "code",
      "execution_count": null,
      "metadata": {
        "id": "rhMrmW0nKP0J"
      },
      "outputs": [],
      "source": []
    },
    {
      "cell_type": "markdown",
      "metadata": {
        "id": "Slxfch_cKP0J"
      },
      "source": [
        "# Dictionaries\n",
        "This experiment mainly introduces related knowledge units about dictionaries in Python, and related operations on them.  \n",
        "\t*Python dictionary. A dictionary has a data structure similar to a mobile phone list, which lists names and their associated information. In a dictionary, the name is called a \"key\", and its associated information is called \"value\". A dictionary is a combination of keys and values.  \n",
        "\t*Its basic format is as follows:  \n",
        "                                           d = {key1 : value1, key2 : value2 }  \n",
        "\t*You can separate a key and a value with a colon, separate each key/value pair with a comma, and include the dictionary in a brace.  \n",
        "\t*Some notes about keys in a dictionary: Keys must be unique, and must be simple objects like strings, integers, floating numbers, and bool values.   "
      ]
    },
    {
      "cell_type": "markdown",
      "metadata": {
        "id": "zD2a5k-IKP0J"
      },
      "source": [
        "## Create a dictionary\n",
        "A dictionary can be created in multiple manners, as shown below."
      ]
    },
    {
      "cell_type": "code",
      "execution_count": null,
      "metadata": {
        "colab": {
          "base_uri": "https://localhost:8080/"
        },
        "id": "xSpnRyK3KP0J",
        "outputId": "ad2d2aa7-fae0-4ec4-9aae-13c194b2d3f0",
        "scrolled": true
      },
      "outputs": [
        {
          "name": "stdout",
          "output_type": "stream",
          "text": [
            "{'one': 1, 'two': 2, 'three': 3}\n"
          ]
        }
      ],
      "source": [
        "a = {'one': 1,'two': 2, 'three': 3}\n",
        "print(a)"
      ]
    },
    {
      "cell_type": "code",
      "execution_count": null,
      "metadata": {
        "colab": {
          "base_uri": "https://localhost:8080/"
        },
        "id": "Hapggp4VKP0K",
        "outputId": "831125b1-8ab1-4835-8d2f-2523000e386f"
      },
      "outputs": [
        {
          "data": {
            "text/plain": [
              "{'name': 'ahmed', 'grade': 10, 'age': 20}"
            ]
          },
          "execution_count": 10,
          "metadata": {},
          "output_type": "execute_result"
        }
      ],
      "source": [
        "student={'name':'ahmed','grade':10,'age':20}\n",
        "student"
      ]
    },
    {
      "cell_type": "code",
      "execution_count": null,
      "metadata": {
        "colab": {
          "base_uri": "https://localhost:8080/"
        },
        "id": "eS24dEaSKP0K",
        "outputId": "6849ec7a-fde9-4a16-b191-ab1f08d8b1b9"
      },
      "outputs": [
        {
          "name": "stdout",
          "output_type": "stream",
          "text": [
            "{'one': 1, 'two': 2, 'three': 3}\n"
          ]
        }
      ],
      "source": [
        "b = dict(one=1, two=2, three=3)\n",
        "print(b)"
      ]
    },
    {
      "cell_type": "code",
      "execution_count": null,
      "metadata": {
        "colab": {
          "base_uri": "https://localhost:8080/"
        },
        "id": "6rMjMml1KP0K",
        "outputId": "b9379661-fd7e-439f-874b-3fd21d96493f"
      },
      "outputs": [
        {
          "name": "stdout",
          "output_type": "stream",
          "text": [
            "{'one': 1, 'two': 2, 'three': 3}\n"
          ]
        }
      ],
      "source": [
        "c = dict([('one', 1), ('two', 2), ('three', 3)]) # list of tuples\n",
        "print(c)"
      ]
    },
    {
      "cell_type": "code",
      "execution_count": null,
      "metadata": {
        "colab": {
          "base_uri": "https://localhost:8080/"
        },
        "id": "5OlwOCLxKP0K",
        "outputId": "6600f155-b04c-40ba-a389-6a7fad53ed0f"
      },
      "outputs": [
        {
          "name": "stdout",
          "output_type": "stream",
          "text": [
            "{'one': 1, 'two': 2, 'three': 3}\n"
          ]
        }
      ],
      "source": [
        "d = dict(zip(['one', 'two', 'three'], [1, 2, 3])) # order kyes = values\n",
        "print(d)"
      ]
    },
    {
      "cell_type": "code",
      "execution_count": null,
      "metadata": {
        "colab": {
          "base_uri": "https://localhost:8080/"
        },
        "id": "E3ojoltCKP0K",
        "outputId": "9d316a6d-f5ff-4f04-9ac6-69acd79a8b39"
      },
      "outputs": [
        {
          "name": "stdout",
          "output_type": "stream",
          "text": [
            "{'one': 1, 'two': 2, 'three': 3}\n"
          ]
        }
      ],
      "source": [
        "e = dict({'one': 1, 'two': 2, 'three': 3})\n",
        "print(e)"
      ]
    },
    {
      "cell_type": "code",
      "execution_count": null,
      "metadata": {
        "colab": {
          "base_uri": "https://localhost:8080/"
        },
        "id": "Tc9hJbX6KP0L",
        "outputId": "c5303885-dc29-43b5-d9f3-56d23d81e8ef"
      },
      "outputs": [
        {
          "name": "stdout",
          "output_type": "stream",
          "text": [
            "True\n"
          ]
        }
      ],
      "source": [
        "print(a==b==c==d==e)"
      ]
    },
    {
      "cell_type": "markdown",
      "metadata": {
        "id": "GHdzpv6tKP0L"
      },
      "source": [
        "## dictcomp\n",
        "\"dictcomp\" can build a dictionary from iterated objects that use key/value pairs as elements."
      ]
    },
    {
      "cell_type": "code",
      "execution_count": null,
      "metadata": {
        "colab": {
          "base_uri": "https://localhost:8080/"
        },
        "id": "6pIJqc9EKP0L",
        "outputId": "39489752-6499-45ca-b2d9-f0c93b933b60"
      },
      "outputs": [
        {
          "name": "stdout",
          "output_type": "stream",
          "text": [
            "{'John': ('CEO', 7), 'Nacy': ('hr', 7), 'LiLei': ('engineer', 9)}\n"
          ]
        }
      ],
      "source": [
        "data = [(\"John\",\"CEO\",7),(\"Nacy\",\"hr\",7),(\"LiLei\",\"engineer\",9)]\n",
        "employee = {name:(work,age) for name, work,age in data}\n",
        "print(employee)"
      ]
    },
    {
      "cell_type": "code",
      "execution_count": null,
      "metadata": {
        "colab": {
          "base_uri": "https://localhost:8080/"
        },
        "id": "Sa3zqbFrKP0L",
        "outputId": "8b6b9f82-96ae-46ec-8507-8507969ea56f"
      },
      "outputs": [
        {
          "name": "stdout",
          "output_type": "stream",
          "text": [
            "{'John': ('CEO', 7)}\n",
            "{'Nacy': ('hr', 7)}\n",
            "{'LiLei': ('engineer', 9)}\n"
          ]
        }
      ],
      "source": [
        "data = [(\"John\",\"CEO\",7),(\"Nacy\",\"hr\",7),(\"LiLei\",\"engineer\",9)]\n",
        "for name, work,age in data:\n",
        "    employee = {name:(work,age)}\n",
        "\n",
        "    print(employee)"
      ]
    },
    {
      "cell_type": "code",
      "execution_count": null,
      "metadata": {
        "colab": {
          "base_uri": "https://localhost:8080/"
        },
        "id": "J_GGYsMaKP0L",
        "outputId": "fffaeac9-7aac-49aa-9dc4-5381867ef069"
      },
      "outputs": [
        {
          "name": "stdout",
          "output_type": "stream",
          "text": [
            "{'John': ('CEO', 7), 'Nacy': ('hr', 7), 'LiLei': ('engineer', 9)}\n"
          ]
        }
      ],
      "source": [
        "print(employee)"
      ]
    },
    {
      "cell_type": "code",
      "execution_count": null,
      "metadata": {
        "colab": {
          "base_uri": "https://localhost:8080/",
          "height": 166
        },
        "id": "7Cmjt7jeKP0M",
        "outputId": "bf4c7ad0-d9af-44dd-8eef-40c669efc779"
      },
      "outputs": [
        {
          "ename": "KeyError",
          "evalue": "ignored",
          "output_type": "error",
          "traceback": [
            "\u001b[0;31m---------------------------------------------------------------------------\u001b[0m",
            "\u001b[0;31mKeyError\u001b[0m                                  Traceback (most recent call last)",
            "\u001b[0;32m<ipython-input-32-0ee4cdc64bc3>\u001b[0m in \u001b[0;36m<cell line: 1>\u001b[0;34m()\u001b[0m\n\u001b[0;32m----> 1\u001b[0;31m \u001b[0memployee\u001b[0m\u001b[0;34m[\u001b[0m\u001b[0;34m'w'\u001b[0m\u001b[0;34m]\u001b[0m\u001b[0;34m\u001b[0m\u001b[0;34m\u001b[0m\u001b[0m\n\u001b[0m",
            "\u001b[0;31mKeyError\u001b[0m: 'w'"
          ]
        }
      ],
      "source": [
        "employee['LiLei']"
      ]
    },
    {
      "cell_type": "code",
      "execution_count": null,
      "metadata": {
        "colab": {
          "base_uri": "https://localhost:8080/",
          "height": 35
        },
        "id": "CfMeLtkRKP0M",
        "outputId": "27ffa006-773c-4573-ff83-aeb0e6f4d07c"
      },
      "outputs": [
        {
          "data": {
            "application/vnd.google.colaboratory.intrinsic+json": {
              "type": "string"
            },
            "text/plain": [
              "'not exist key'"
            ]
          },
          "execution_count": 34,
          "metadata": {},
          "output_type": "execute_result"
        }
      ],
      "source": [
        "employee.get('LiLe','not exist key')"
      ]
    },
    {
      "cell_type": "code",
      "execution_count": null,
      "metadata": {
        "id": "UJH1xl4fKP0M"
      },
      "outputs": [],
      "source": [
        "for x,y,z in data: #tuples > x=john, y=ceo, z=7\n",
        "    print(x)\n",
        "    print(y)\n",
        "    print(z)"
      ]
    },
    {
      "cell_type": "code",
      "execution_count": null,
      "metadata": {
        "colab": {
          "base_uri": "https://localhost:8080/"
        },
        "id": "XFlrZVfbKP0M",
        "outputId": "b1746d4c-83b2-48f8-91f7-6c265d1688de"
      },
      "outputs": [
        {
          "name": "stdout",
          "output_type": "stream",
          "text": [
            "3\n",
            "4\n",
            "********\n",
            "5\n",
            "6\n",
            "********\n",
            "7\n",
            "8\n",
            "********\n",
            "9\n",
            "10\n",
            "********\n"
          ]
        }
      ],
      "source": [
        "a=[(3,4),(5,6),(7,8),(9,10)]\n",
        "for x,y in a:  # x (3,4)   (5,6)   (7,8).....\n",
        "    print(x)\n",
        "    print(y)\n",
        "\n",
        "    print(\"********\")\n",
        "\n"
      ]
    },
    {
      "cell_type": "code",
      "execution_count": null,
      "metadata": {
        "id": "B8TSNsebKP0N"
      },
      "outputs": [],
      "source": [
        "print('**************')\n",
        "for x,y in a:  # x=3 y=4  list of tuples element tuple > two items\n",
        "    print(x)\n",
        "    print(y)\n",
        "    print(\"********\")"
      ]
    },
    {
      "cell_type": "markdown",
      "metadata": {
        "id": "M47xE17EKP0N"
      },
      "source": [
        "## Dictionary lookup\n",
        "Look up directly according to a key value.  \n",
        "If there is no matched key value in a dictionary, KeyError is returned."
      ]
    },
    {
      "cell_type": "code",
      "execution_count": null,
      "metadata": {
        "colab": {
          "base_uri": "https://localhost:8080/"
        },
        "id": "nHL_q-phKP0N",
        "outputId": "0ab53b13-ef32-48d2-8646-d90e0fb73867"
      },
      "outputs": [
        {
          "name": "stdout",
          "output_type": "stream",
          "text": [
            "('CEO', 7)\n"
          ]
        }
      ],
      "source": [
        "print(employee[\"John\"])"
      ]
    },
    {
      "cell_type": "code",
      "execution_count": null,
      "metadata": {
        "colab": {
          "base_uri": "https://localhost:8080/",
          "height": 166
        },
        "id": "tPPc-E6tKP0N",
        "outputId": "8f936cf1-2e31-449c-b76b-15aee5a783f6"
      },
      "outputs": [
        {
          "ename": "KeyError",
          "evalue": "ignored",
          "output_type": "error",
          "traceback": [
            "\u001b[0;31m---------------------------------------------------------------------------\u001b[0m",
            "\u001b[0;31mKeyError\u001b[0m                                  Traceback (most recent call last)",
            "\u001b[0;32m<ipython-input-36-85261c9baaeb>\u001b[0m in \u001b[0;36m<cell line: 1>\u001b[0;34m()\u001b[0m\n\u001b[0;32m----> 1\u001b[0;31m \u001b[0mprint\u001b[0m\u001b[0;34m(\u001b[0m\u001b[0memployee\u001b[0m\u001b[0;34m[\u001b[0m\u001b[0;34m\"Joh\"\u001b[0m\u001b[0;34m]\u001b[0m\u001b[0;34m)\u001b[0m\u001b[0;34m\u001b[0m\u001b[0;34m\u001b[0m\u001b[0m\n\u001b[0m",
            "\u001b[0;31mKeyError\u001b[0m: 'Joh'"
          ]
        }
      ],
      "source": [
        "print(employee[\"Joh\"])"
      ]
    },
    {
      "cell_type": "code",
      "execution_count": null,
      "metadata": {
        "id": "MGPnbSxDKP0N"
      },
      "outputs": [],
      "source": [
        "x=5\n",
        "if x==5:\n",
        "\n",
        "    print(x)\n",
        "else:\n",
        "    print(x+8)"
      ]
    },
    {
      "cell_type": "code",
      "execution_count": null,
      "metadata": {
        "id": "7n4Q-n4SKP0N"
      },
      "outputs": [],
      "source": [
        "z=0\n",
        "def sum(x,y):\n",
        "    global z\n",
        "    z=x+y\n",
        "    print(z)\n",
        "    return z\n",
        "s=sum(3,4)\n",
        "print(s)\n",
        "z\n"
      ]
    },
    {
      "cell_type": "markdown",
      "metadata": {
        "id": "zM2R77q4KP0O"
      },
      "source": [
        "When you use dic[key] to look up a key value in a dictionary, it will return an error if there is no such key value. However, if you use dic.get(key, default) to look up a key value, it will return default if there is no such key value."
      ]
    },
    {
      "cell_type": "code",
      "execution_count": null,
      "metadata": {
        "id": "XWyTPWgVKP0O"
      },
      "outputs": [],
      "source": [
        "print(employee.get(\"Nay\",\"UnKnown'\"))"
      ]
    },
    {
      "cell_type": "code",
      "execution_count": null,
      "metadata": {
        "colab": {
          "base_uri": "https://localhost:8080/"
        },
        "id": "M59-CCg8KP0O",
        "outputId": "83ccf835-3432-48c6-a8f6-f62c178e4e52"
      },
      "outputs": [
        {
          "name": "stdout",
          "output_type": "stream",
          "text": [
            "('CEO', 7)\n"
          ]
        }
      ],
      "source": [
        "print(employee.get(\"John\",'error'))"
      ]
    },
    {
      "cell_type": "code",
      "execution_count": null,
      "metadata": {
        "id": "wjz7XayrKP0O",
        "scrolled": true
      },
      "outputs": [],
      "source": [
        "print(employee.get(\"Nac\",\"not exist\"))"
      ]
    },
    {
      "cell_type": "code",
      "execution_count": null,
      "metadata": {
        "id": "taRFBpyrKP0O"
      },
      "outputs": [],
      "source": [
        "# Three value assignment operations on dictionaries.\n",
        "x = {'food':'Spam','quantity':4,'color':'pink'}\n",
        "X =dict(food='Spam',quantity=4, color='pink')\n",
        "x = dict([(\"food\", \"Spam\"),(\"quantity\", \"4\"),(\"color\",\"pink\")])"
      ]
    },
    {
      "cell_type": "code",
      "execution_count": null,
      "metadata": {
        "id": "9kEkQWQHKP0P"
      },
      "outputs": [],
      "source": [
        "x = {'food':'Spam','quantity':4,'color':'pink'}\n"
      ]
    },
    {
      "cell_type": "code",
      "execution_count": null,
      "metadata": {
        "colab": {
          "base_uri": "https://localhost:8080/",
          "height": 35
        },
        "id": "gFplJBoIKP0P",
        "outputId": "e27b9cf0-03ad-44bc-d42f-af900a0db3bd"
      },
      "outputs": [
        {
          "data": {
            "application/vnd.google.colaboratory.intrinsic+json": {
              "type": "string"
            },
            "text/plain": [
              "'pink'"
            ]
          },
          "execution_count": 44,
          "metadata": {},
          "output_type": "execute_result"
        }
      ],
      "source": [
        "x['color']"
      ]
    },
    {
      "cell_type": "code",
      "execution_count": null,
      "metadata": {
        "colab": {
          "base_uri": "https://localhost:8080/",
          "height": 35
        },
        "id": "fPLqYpldKP0P",
        "outputId": "b7761b80-802d-4f06-b4e7-ec50241f38f9"
      },
      "outputs": [
        {
          "data": {
            "application/vnd.google.colaboratory.intrinsic+json": {
              "type": "string"
            },
            "text/plain": [
              "'key is not defined'"
            ]
          },
          "execution_count": 45,
          "metadata": {},
          "output_type": "execute_result"
        }
      ],
      "source": [
        "x.get('colour','key is not defined')"
      ]
    },
    {
      "cell_type": "code",
      "execution_count": null,
      "metadata": {
        "colab": {
          "base_uri": "https://localhost:8080/"
        },
        "id": "K91a7SBHKP0P",
        "outputId": "eb2715b7-f87b-4ce8-c2be-87b98b63783c"
      },
      "outputs": [
        {
          "name": "stdout",
          "output_type": "stream",
          "text": [
            "{'food': 'Spam', 'quantity': 4, 'color': 'pink'}\n",
            "{'food': 'Spam', 'quantity': 4, 'color': 'pink'}\n"
          ]
        }
      ],
      "source": [
        "# dict.copy(): Copy data.\n",
        "d =x.copy()\n",
        "print(x)\t\t\t\t\t\t\t# {'food':'Spam','quantity':4,'color':'pink'}\n",
        "print(d)\n"
      ]
    },
    {
      "cell_type": "code",
      "execution_count": null,
      "metadata": {
        "colab": {
          "base_uri": "https://localhost:8080/"
        },
        "id": "jxnF9RmxKP0Q",
        "outputId": "36f23e43-9b76-431e-8580-25274ed2690e"
      },
      "outputs": [
        {
          "name": "stdout",
          "output_type": "stream",
          "text": [
            "{'food': 'Spam', 'quantity': 4, 'color': 'red'}\n",
            "{'food': 'Spam', 'quantity': 4, 'color': 'pink'}\n"
          ]
        }
      ],
      "source": [
        "d['color'] = 'red'\n",
        "print(d)\t\t\t\t\t\t\t# {'food':'Spam','quantity':4,'color':'red'}\n",
        "print(x)"
      ]
    },
    {
      "cell_type": "code",
      "execution_count": null,
      "metadata": {
        "id": "DyTEx-hyKP0Q"
      },
      "outputs": [],
      "source": [
        "x=[\"name\":'ahmed',\"age\":34]\n",
        "y=x\n",
        "y.append('ali')\n",
        "print(x)\n",
        "print(y)\n",
        "x[].clear()"
      ]
    },
    {
      "cell_type": "code",
      "execution_count": null,
      "metadata": {
        "id": "bqX1_PY4KP0Q"
      },
      "outputs": [],
      "source": [
        "# Element access.\n",
        "print (d['food']) # Obtain the error information."
      ]
    },
    {
      "cell_type": "code",
      "execution_count": null,
      "metadata": {
        "id": "bO46Lf8-KP0Q"
      },
      "outputs": [],
      "source": [
        "print(d.get('name','fefefe')) # Output: None\n",
        "print(d.get('name','The key value does not exist.')) \t# Output: The key value does not exist.\n"
      ]
    },
    {
      "cell_type": "code",
      "execution_count": null,
      "metadata": {
        "colab": {
          "base_uri": "https://localhost:8080/"
        },
        "id": "kt0-kTiPKP0Q",
        "outputId": "aeeaf976-e064-4999-f274-c127f0cbc75e"
      },
      "outputs": [
        {
          "name": "stdout",
          "output_type": "stream",
          "text": [
            "dict_keys(['food', 'quantity', 'color'])\n",
            "dict_values(['Spam', 4, 'red'])\n",
            "dict_items([('food', 'Spam'), ('quantity', 4), ('color', 'red')])\n"
          ]
        }
      ],
      "source": [
        "print(d.keys()) # Output: dict_keys(['food', 'quantity', 'color'])\n",
        "print(d.values())# Output: dict_values(['Spam', 4, 'red'])\n",
        "print(d.items())"
      ]
    },
    {
      "cell_type": "code",
      "execution_count": null,
      "metadata": {
        "colab": {
          "base_uri": "https://localhost:8080/"
        },
        "id": "7qZN9au8KP0R",
        "outputId": "426c7540-4f46-40e5-ed6c-8d1d16500c5b"
      },
      "outputs": [
        {
          "name": "stdout",
          "output_type": "stream",
          "text": [
            "{'food': 'Spam', 'quantity': 4, 'color': 'red'}\n",
            "{}\n"
          ]
        }
      ],
      "source": [
        "# Output: dict_items([('food', 'Spam'), ('quantity', 4), ('color', 'red')])\n",
        "print(d)\n",
        "d.clear()# Clear all data in the dictionary.\n",
        "print(d)# Output: {}"
      ]
    },
    {
      "cell_type": "code",
      "execution_count": null,
      "metadata": {
        "colab": {
          "base_uri": "https://localhost:8080/",
          "height": 201
        },
        "id": "aBx5pRnCKP0R",
        "outputId": "22348867-00cc-4d9d-e443-6f2ff89c9a60"
      },
      "outputs": [
        {
          "ename": "NameError",
          "evalue": "ignored",
          "output_type": "error",
          "traceback": [
            "\u001b[0;31m---------------------------------------------------------------------------\u001b[0m",
            "\u001b[0;31mNameError\u001b[0m                                 Traceback (most recent call last)",
            "\u001b[0;32m<ipython-input-50-b1fd135d6891>\u001b[0m in \u001b[0;36m<cell line: 2>\u001b[0;34m()\u001b[0m\n\u001b[1;32m      1\u001b[0m \u001b[0;32mdel\u001b[0m\u001b[0;34m(\u001b[0m\u001b[0md\u001b[0m\u001b[0;34m)\u001b[0m\u001b[0;31m# Delete the dictionary.\u001b[0m\u001b[0;34m\u001b[0m\u001b[0;34m\u001b[0m\u001b[0m\n\u001b[0;32m----> 2\u001b[0;31m \u001b[0mprint\u001b[0m\u001b[0;34m(\u001b[0m\u001b[0md\u001b[0m\u001b[0;34m)\u001b[0m\u001b[0;31m# The program is abnormal, and a message is displayed, indicating that d is not defined.\u001b[0m\u001b[0;34m\u001b[0m\u001b[0;34m\u001b[0m\u001b[0m\n\u001b[0m",
            "\u001b[0;31mNameError\u001b[0m: name 'd' is not defined"
          ]
        }
      ],
      "source": [
        "del(d)# Delete the dictionary.\n",
        "print(d)# The program is abnormal, and a message is displayed, indicating that d is not defined."
      ]
    },
    {
      "cell_type": "markdown",
      "metadata": {
        "id": "ZppPaQCGKP0R"
      },
      "source": [
        "# string"
      ]
    },
    {
      "cell_type": "markdown",
      "metadata": {
        "id": "xvXgiEAeKP0R"
      },
      "source": [
        "This experiment mainly introduces related knowledge units about strings in Python, and related operations on them."
      ]
    },
    {
      "cell_type": "markdown",
      "metadata": {
        "id": "_Uj0pRf1KP0R"
      },
      "source": [
        "Strings of Python: A string is a sequence composed of zero or multiple characters, and it is one of the sixth built-in sequences of Python. Strings are unchangeable in Python, which are string constants in C and C++ languages.\n",
        "Expression of strings. Strings may be expressed in single quotes, double quotes, triple quotes, or as escape characters and original strings.\n"
      ]
    },
    {
      "cell_type": "markdown",
      "metadata": {
        "id": "2G8pT7SvKP0S"
      },
      "source": [
        "## Single quotes and double quotes\n",
        "Strings in single quotes are equal to those in double quotes, and they are exchangeable."
      ]
    },
    {
      "cell_type": "code",
      "execution_count": null,
      "metadata": {
        "colab": {
          "base_uri": "https://localhost:8080/"
        },
        "id": "lvDmRLnnKP0S",
        "outputId": "c42829de-6400-4b10-e15e-3e5e760f05ec"
      },
      "outputs": [
        {
          "name": "stdout",
          "output_type": "stream",
          "text": [
            "string\n"
          ]
        }
      ],
      "source": [
        "s = 'string'\n",
        "print(s)"
      ]
    },
    {
      "cell_type": "code",
      "execution_count": null,
      "metadata": {
        "colab": {
          "base_uri": "https://localhost:8080/"
        },
        "id": "0u6dzWG5KP0S",
        "outputId": "8f7c4b85-eb9e-4deb-febb-267ec3286b8e"
      },
      "outputs": [
        {
          "name": "stdout",
          "output_type": "stream",
          "text": [
            "python's string\n"
          ]
        }
      ],
      "source": [
        "ss=\"python's string\"\n",
        "print(ss)"
      ]
    },
    {
      "cell_type": "code",
      "execution_count": null,
      "metadata": {
        "colab": {
          "base_uri": "https://localhost:8080/"
        },
        "id": "cHg1KD2rKP0S",
        "outputId": "d1381428-451d-4473-c86c-75e4eb6091fe",
        "scrolled": true
      },
      "outputs": [
        {
          "name": "stdout",
          "output_type": "stream",
          "text": [
            "python \"Hello World\"string\n"
          ]
        }
      ],
      "source": [
        "sss='python \"Hello World\"string'\n",
        "print(sss)"
      ]
    },
    {
      "cell_type": "markdown",
      "metadata": {
        "id": "K-IB45yDKP0S"
      },
      "source": [
        "## Long strings\n",
        "Triple quotes can define long strings in Python as mentioned before. Long strings may have output like:"
      ]
    },
    {
      "cell_type": "code",
      "execution_count": null,
      "metadata": {
        "id": "RoqUgLgCKP0T",
        "scrolled": true
      },
      "outputs": [],
      "source": [
        "print('''\"this is a long string\",he said''')"
      ]
    },
    {
      "cell_type": "markdown",
      "metadata": {
        "id": "4lGOs9GDKP0T"
      },
      "source": [
        "## Original strings\n",
        "Original strings start with r, and you can input any character in original strings. The output strings include backslash used by transference at last. However, you cannot input backslash at the end of strings. For example:"
      ]
    },
    {
      "cell_type": "code",
      "execution_count": null,
      "metadata": {
        "id": "YBdO0BLBKP0T"
      },
      "outputs": [],
      "source": [
        "rawStr = r'D:\\SVN_CODE\\V900R17C00_TRP\\omu\\src'\n",
        "print(rawStr)"
      ]
    },
    {
      "cell_type": "markdown",
      "metadata": {
        "id": "QEwrRLv9KP0T"
      },
      "source": [
        "## Width, precision, and alignment of strings\n",
        "To achieve the expected effects of strings in aspects of width, precision, and alignment, refer to the formatting operator commands."
      ]
    },
    {
      "cell_type": "code",
      "execution_count": null,
      "metadata": {
        "colab": {
          "base_uri": "https://localhost:8080/"
        },
        "id": "w7cRaiQhKP0T",
        "outputId": "e8eeec94-e907-461e-8465-2c65132d266e"
      },
      "outputs": [
        {
          "name": "stdout",
          "output_type": "stream",
          "text": [
            "b\n"
          ]
        }
      ],
      "source": [
        "print(\"%c\" % 98)"
      ]
    },
    {
      "cell_type": "code",
      "execution_count": null,
      "metadata": {
        "colab": {
          "base_uri": "https://localhost:8080/"
        },
        "id": "dRe0pz4UKP0U",
        "outputId": "490ffc06-54ce-42c2-cb09-c22cfa5993c4"
      },
      "outputs": [
        {
          "data": {
            "text/plain": [
              "97"
            ]
          },
          "execution_count": 63,
          "metadata": {},
          "output_type": "execute_result"
        }
      ],
      "source": [
        "ord('a')"
      ]
    },
    {
      "cell_type": "code",
      "execution_count": null,
      "metadata": {
        "colab": {
          "base_uri": "https://localhost:8080/"
        },
        "id": "ZnK1zYeFKP0U",
        "outputId": "1b8dda7b-1ad4-44c0-d2bb-3a21d13607ee"
      },
      "outputs": [
        {
          "name": "stdout",
          "output_type": "stream",
          "text": [
            "2.50000\n"
          ]
        }
      ],
      "source": [
        "print(\"%.5f\" % 2.5)"
      ]
    },
    {
      "cell_type": "code",
      "execution_count": null,
      "metadata": {
        "colab": {
          "base_uri": "https://localhost:8080/"
        },
        "id": "f0YR5_bTKP0U",
        "outputId": "e912a258-2ed5-4e2f-c693-ce6d96a25708"
      },
      "outputs": [
        {
          "name": "stdout",
          "output_type": "stream",
          "text": [
            "  f\n"
          ]
        }
      ],
      "source": [
        "print(\"%3x\" % 15)   #  0 9 abcdef"
      ]
    },
    {
      "cell_type": "code",
      "execution_count": null,
      "metadata": {
        "id": "RhfMLlziKP0U",
        "scrolled": true
      },
      "outputs": [],
      "source": [
        "x=6\n",
        "print(\"%.5f\" % (x, 1.5))"
      ]
    },
    {
      "cell_type": "markdown",
      "metadata": {
        "id": "DKbxEypZKP0V"
      },
      "source": [
        "## Connect and repeat strings\n",
        "In Python, you can use \"+\" to connect strings and use \"*\" to repeat strings."
      ]
    },
    {
      "cell_type": "code",
      "execution_count": null,
      "metadata": {
        "colab": {
          "base_uri": "https://localhost:8080/"
        },
        "id": "WoOfINmVKP0V",
        "outputId": "c6016753-1383-48c8-b08b-28b7b7f54420"
      },
      "outputs": [
        {
          "name": "stdout",
          "output_type": "stream",
          "text": [
            "I Knew \u0000Python\n"
          ]
        }
      ],
      "source": [
        "s = 'I' + ' ' + 'Knew' + ' \\0'+'Python' + ''\n",
        "print(s)"
      ]
    },
    {
      "cell_type": "code",
      "execution_count": null,
      "metadata": {
        "colab": {
          "base_uri": "https://localhost:8080/"
        },
        "id": "4emdSxCZUzI7",
        "outputId": "3fc27d1b-e251-4043-f230-5c79b4d328a6"
      },
      "outputs": [
        {
          "name": "stdout",
          "output_type": "stream",
          "text": [
            "ahmed ali\n"
          ]
        }
      ],
      "source": [
        "x='ahmed'\n",
        "y='ali'\n",
        "z=x+' '+y\n",
        "print(z)"
      ]
    },
    {
      "cell_type": "code",
      "execution_count": null,
      "metadata": {
        "colab": {
          "base_uri": "https://localhost:8080/"
        },
        "id": "XBiE6keFKP0V",
        "outputId": "beaa40e4-39ee-43e3-8742-bfb93239a220",
        "scrolled": true
      },
      "outputs": [
        {
          "name": "stdout",
          "output_type": "stream",
          "text": [
            "I love Python.I love Python.I love Python.\n"
          ]
        }
      ],
      "source": [
        "ss='I love Python.'*3\n",
        "print(ss)"
      ]
    },
    {
      "cell_type": "markdown",
      "metadata": {
        "id": "C53ElYAfKP0V"
      },
      "source": [
        "## Delete strings\n",
        "You can use \"del\" to delete a string. After being deleted, this object will no longer exist, and an error is reported when you access this object again."
      ]
    },
    {
      "cell_type": "code",
      "execution_count": null,
      "metadata": {
        "colab": {
          "base_uri": "https://localhost:8080/",
          "height": 183
        },
        "id": "WYKazqvMKP0V",
        "outputId": "1288569a-37e8-4806-9001-324fdc36f429",
        "scrolled": true
      },
      "outputs": [
        {
          "ename": "NameError",
          "evalue": "ignored",
          "output_type": "error",
          "traceback": [
            "\u001b[0;31m---------------------------------------------------------------------------\u001b[0m",
            "\u001b[0;31mNameError\u001b[0m                                 Traceback (most recent call last)",
            "\u001b[0;32m<ipython-input-72-98639b0ddb82>\u001b[0m in \u001b[0;36m<cell line: 2>\u001b[0;34m()\u001b[0m\n\u001b[1;32m      1\u001b[0m \u001b[0;32mdel\u001b[0m \u001b[0mss\u001b[0m\u001b[0;34m\u001b[0m\u001b[0;34m\u001b[0m\u001b[0m\n\u001b[0;32m----> 2\u001b[0;31m \u001b[0mprint\u001b[0m\u001b[0;34m(\u001b[0m\u001b[0mss\u001b[0m\u001b[0;34m)\u001b[0m\u001b[0;34m\u001b[0m\u001b[0;34m\u001b[0m\u001b[0m\n\u001b[0m",
            "\u001b[0;31mNameError\u001b[0m: name 'ss' is not defined"
          ]
        }
      ],
      "source": [
        "del ss\n",
        "print(ss)"
      ]
    },
    {
      "cell_type": "code",
      "execution_count": null,
      "metadata": {
        "colab": {
          "base_uri": "https://localhost:8080/"
        },
        "id": "NVn84QR7KP0V",
        "outputId": "760649a5-fc00-4f67-9855-b254b359f9f2"
      },
      "outputs": [
        {
          "name": "stdout",
          "output_type": "stream",
          "text": [
            "please enter first number7\n"
          ]
        }
      ],
      "source": [
        "a=int(input(\"please enter first number\"))"
      ]
    },
    {
      "cell_type": "code",
      "execution_count": null,
      "metadata": {
        "colab": {
          "base_uri": "https://localhost:8080/"
        },
        "id": "46g3twKsKP0W",
        "outputId": "a6235e82-089b-44b8-ec80-5628cf8065b3"
      },
      "outputs": [
        {
          "name": "stdout",
          "output_type": "stream",
          "text": [
            "please enter the second number8\n"
          ]
        }
      ],
      "source": [
        "b=int(input(\"please enter the second number\"))"
      ]
    },
    {
      "cell_type": "code",
      "execution_count": null,
      "metadata": {
        "colab": {
          "base_uri": "https://localhost:8080/"
        },
        "id": "JgxOHexoVTlA",
        "outputId": "520cd0e0-7e7e-4ad1-9680-7b126973341a"
      },
      "outputs": [
        {
          "name": "stdout",
          "output_type": "stream",
          "text": [
            "15\n"
          ]
        },
        {
          "data": {
            "text/plain": [
              "16"
            ]
          },
          "execution_count": 84,
          "metadata": {},
          "output_type": "execute_result"
        }
      ],
      "source": [
        "z=a+b\n",
        "print(z)\n",
        "z+1"
      ]
    },
    {
      "cell_type": "code",
      "execution_count": null,
      "metadata": {
        "id": "bzxrodQ8XOUz"
      },
      "outputs": [],
      "source": []
    },
    {
      "cell_type": "code",
      "execution_count": null,
      "metadata": {
        "colab": {
          "base_uri": "https://localhost:8080/"
        },
        "id": "cuwIFJrLKP0W",
        "outputId": "56c63951-3e2f-4191-da6b-b93175f40ef4"
      },
      "outputs": [
        {
          "data": {
            "text/plain": [
              "16"
            ]
          },
          "execution_count": 79,
          "metadata": {},
          "output_type": "execute_result"
        }
      ],
      "source": [
        "z=int(a)+int(b)\n",
        "z+1"
      ]
    },
    {
      "cell_type": "code",
      "execution_count": null,
      "metadata": {
        "colab": {
          "base_uri": "https://localhost:8080/"
        },
        "id": "gB5mdDoSWT-N",
        "outputId": "8cd64d63-c831-4bca-8be2-49e929a7c61d"
      },
      "outputs": [
        {
          "name": "stdout",
          "output_type": "stream",
          "text": [
            "<class 'int'>\n"
          ]
        }
      ],
      "source": [
        "print(type(a))"
      ]
    },
    {
      "cell_type": "markdown",
      "metadata": {
        "id": "IiG1RzIiKP0W"
      },
      "source": [
        "# Conditional and Looping Statements\n",
        "This experiment mainly introduces related knowledge units about conditional and looping statements in Python, and related operations on them.  \n",
        "There are a lot of changes in looping statements. Common statements include the \"for\" statement and the \"while\" statement.  \n",
        "In \"for\" looping, the \"for\" statement should be followed by a colon. \"for\" looping is performed in a way similar to iterating. In \"while\" looping, there is a judgment on condition and then looping, like in other languages.  "
      ]
    },
    {
      "cell_type": "markdown",
      "metadata": {
        "id": "xAXgVUmyKP0X"
      },
      "source": [
        "## If Statement"
      ]
    },
    {
      "cell_type": "code",
      "execution_count": null,
      "metadata": {
        "colab": {
          "base_uri": "https://localhost:8080/"
        },
        "id": "yDLugtGKKP0X",
        "outputId": "89698cb2-5e1e-4b8d-e522-317ab6e45ef8"
      },
      "outputs": [
        {
          "name": "stdout",
          "output_type": "stream",
          "text": [
            "Please enter your score.a\n",
            "Enter a correct score.\n",
            "finished\n"
          ]
        }
      ],
      "source": [
        "###### Determine the entered score.\n",
        "# input(): Receive input data.\n",
        "try:\n",
        "    score = float(input(\"Please enter your score.\"))# The input function receives input, which is a character string.\n",
        "\n",
        "#    score = float(score)# Convert the score to a number.\n",
        "# try:… except Exception:… is a Python statement used to capture exceptions. If an error occurs in the statement in the try statement, the except statement will be executed.\n",
        "\n",
        "    if 100>=score>=90: \t\t\t\t\t\t\t\t# Check whether the entered value is greater than the score of a level.\n",
        "        print(\"Excellent\") # Generate the level when conditions are met.\n",
        "    elif 90 > score >= 80:\n",
        "        print(\"Good\")\n",
        "    elif 80>score>50:\n",
        "        print(\"Medium\")\n",
        "    else:\n",
        "        print(\"Bad\")\n",
        "\n",
        "except Exception:\n",
        "\tprint(\"Enter a correct score.\")\n",
        "print(\"finished\")"
      ]
    },
    {
      "cell_type": "code",
      "execution_count": null,
      "metadata": {
        "colab": {
          "base_uri": "https://localhost:8080/",
          "height": 287
        },
        "id": "J1NpohyBKP0X",
        "outputId": "ebead8e1-d361-449a-bd82-ea14c1e427dc"
      },
      "outputs": [
        {
          "name": "stdout",
          "output_type": "stream",
          "text": [
            "Please enter your score.a\n"
          ]
        },
        {
          "ename": "ValueError",
          "evalue": "ignored",
          "output_type": "error",
          "traceback": [
            "\u001b[0;31m---------------------------------------------------------------------------\u001b[0m",
            "\u001b[0;31mValueError\u001b[0m                                Traceback (most recent call last)",
            "\u001b[0;32m<ipython-input-88-3cf9591b18d3>\u001b[0m in \u001b[0;36m<cell line: 1>\u001b[0;34m()\u001b[0m\n\u001b[0;32m----> 1\u001b[0;31m \u001b[0mscore\u001b[0m \u001b[0;34m=\u001b[0m \u001b[0mfloat\u001b[0m\u001b[0;34m(\u001b[0m\u001b[0minput\u001b[0m\u001b[0;34m(\u001b[0m\u001b[0;34m\"Please enter your score.\"\u001b[0m\u001b[0;34m)\u001b[0m\u001b[0;34m)\u001b[0m\u001b[0;31m# The input function receives input, which is a character string.\u001b[0m\u001b[0;34m\u001b[0m\u001b[0;34m\u001b[0m\u001b[0m\n\u001b[0m\u001b[1;32m      2\u001b[0m \u001b[0;34m\u001b[0m\u001b[0m\n\u001b[1;32m      3\u001b[0m \u001b[0;31m#    score = float(score)# Convert the score to a number.\u001b[0m\u001b[0;34m\u001b[0m\u001b[0;34m\u001b[0m\u001b[0m\n\u001b[1;32m      4\u001b[0m \u001b[0;31m# try:… except Exception:… is a Python statement used to capture exceptions. If an error occurs in the statement in the try statement, the except statement will be executed.\u001b[0m\u001b[0;34m\u001b[0m\u001b[0;34m\u001b[0m\u001b[0m\n\u001b[1;32m      5\u001b[0m \u001b[0;34m\u001b[0m\u001b[0m\n",
            "\u001b[0;31mValueError\u001b[0m: could not convert string to float: 'a'"
          ]
        }
      ],
      "source": [
        "score = float(input(\"Please enter your score.\"))# The input function receives input, which is a character string.\n",
        "\n",
        "#    score = float(score)# Convert the score to a number.\n",
        "# try:… except Exception:… is a Python statement used to capture exceptions. If an error occurs in the statement in the try statement, the except statement will be executed.\n",
        "\n",
        "if 100>=score>=90: \t\t\t\t\t\t\t\t# Check whether the entered value is greater than the score of a level.\n",
        "    print(\"Excellent\") # Generate the level when conditions are met.\n",
        "elif 90 > score >= 80:\n",
        "    print(\"Good\")\n",
        "elif 80>score>50:\n",
        "    print(\"Medium\")\n",
        "elif 50>=score>=0:\n",
        "        print(\"Bad\")\n",
        "else:\n",
        "    print(\"out of range score\")\n",
        "print(\"program finished\")"
      ]
    },
    {
      "cell_type": "code",
      "execution_count": null,
      "metadata": {
        "colab": {
          "base_uri": "https://localhost:8080/"
        },
        "id": "KguyTnSvKP0X",
        "outputId": "a4ec4a1a-8528-49e9-ba2c-007695d3275e"
      },
      "outputs": [
        {
          "data": {
            "text/plain": [
              "float"
            ]
          },
          "execution_count": 91,
          "metadata": {},
          "output_type": "execute_result"
        }
      ],
      "source": [
        "a='55'\n",
        "a=float(a)\n",
        "type(a)"
      ]
    },
    {
      "cell_type": "markdown",
      "metadata": {
        "id": "JU3vxrenKP0Y"
      },
      "source": [
        "## \"for\" looping"
      ]
    },
    {
      "cell_type": "code",
      "execution_count": null,
      "metadata": {
        "colab": {
          "base_uri": "https://localhost:8080/"
        },
        "id": "U1cgGYacKP0Y",
        "outputId": "68e070c1-7770-4b5f-e616-9e7d4f5c1899"
      },
      "outputs": [
        {
          "name": "stdout",
          "output_type": "stream",
          "text": [
            "1\n",
            "3\n",
            "5\n",
            "7\n",
            "9\n"
          ]
        }
      ],
      "source": [
        "for i in range(1,10,2): # 1 finish 2 start finish 3 start finish step\n",
        "    print(i)"
      ]
    },
    {
      "cell_type": "code",
      "execution_count": null,
      "metadata": {
        "colab": {
          "base_uri": "https://localhost:8080/"
        },
        "id": "VimM2dPfKP0Y",
        "outputId": "38e342a1-9c23-4367-fc89-66f98a7ecc5e",
        "scrolled": true
      },
      "outputs": [
        {
          "name": "stdout",
          "output_type": "stream",
          "text": [
            "[3, 5]\n"
          ]
        }
      ],
      "source": [
        "a=[1,3,5,7,9]\n",
        "\n",
        "print(a[1:3])\n"
      ]
    },
    {
      "cell_type": "code",
      "execution_count": null,
      "metadata": {
        "colab": {
          "base_uri": "https://localhost:8080/"
        },
        "id": "sbLYNJacKP0Y",
        "outputId": "b0984413-93d2-42a2-da16-9c914253c6c1"
      },
      "outputs": [
        {
          "name": "stdout",
          "output_type": "stream",
          "text": [
            "1\n",
            "3\n",
            "5\n",
            "7\n",
            "9\n",
            "[1, 3, 5, 7, 9]\n"
          ]
        }
      ],
      "source": [
        "for i in a:\n",
        "    print(i)\n",
        "print(a)"
      ]
    },
    {
      "cell_type": "code",
      "execution_count": null,
      "metadata": {
        "colab": {
          "base_uri": "https://localhost:8080/"
        },
        "id": "nWnta8f9KP0Y",
        "outputId": "68c42a99-7e58-4d3a-d3bb-f29f54e1d05a"
      },
      "outputs": [
        {
          "name": "stdout",
          "output_type": "stream",
          "text": [
            "w   e   l   c   o   m   e       t   o       p   y   t   h   o   n   "
          ]
        }
      ],
      "source": [
        "x=\"welcome to python\"\n",
        "for i in range(len(x)):\n",
        "    print(x[i],end='   ')"
      ]
    },
    {
      "cell_type": "code",
      "execution_count": null,
      "metadata": {
        "id": "lIldDlJoKP0Y"
      },
      "outputs": [],
      "source": [
        "x=\"welcome to python\"\n",
        "for i in x:\n",
        "    print(i)"
      ]
    },
    {
      "cell_type": "code",
      "execution_count": null,
      "metadata": {
        "colab": {
          "base_uri": "https://localhost:8080/"
        },
        "id": "UrCBhNsRKP0Z",
        "outputId": "7bb0dcf1-6a52-46c1-bcf5-8c31e14b4d5d"
      },
      "outputs": [
        {
          "name": "stdout",
          "output_type": "stream",
          "text": [
            " 1* 1= 1  \n",
            " 2* 1= 2   2* 2= 4  \n",
            " 3* 1= 3   3* 2= 6   3* 3= 9  \n",
            " 4* 1= 4   4* 2= 8   4* 3=12   4* 4=16  \n",
            " 5* 1= 5   5* 2=10   5* 3=15   5* 4=20   5* 5=25  \n",
            " 6* 1= 6   6* 2=12   6* 3=18   6* 4=24   6* 5=30   6* 6=36  \n",
            " 7* 1= 7   7* 2=14   7* 3=21   7* 4=28   7* 5=35   7* 6=42   7* 7=49  \n",
            " 8* 1= 8   8* 2=16   8* 3=24   8* 4=32   8* 5=40   8* 6=48   8* 7=56   8* 8=64  \n",
            " 9* 1= 9   9* 2=18   9* 3=27   9* 4=36   9* 5=45   9* 6=54   9* 7=63   9* 8=72   9* 9=81  \n",
            "10* 1=10  10* 2=20  10* 3=30  10* 4=40  10* 5=50  10* 6=60  10* 7=70  10* 8=80  10* 9=90  10*10=100  \n",
            "11* 1=11  11* 2=22  11* 3=33  11* 4=44  11* 5=55  11* 6=66  11* 7=77  11* 8=88  11* 9=99  11*10=110  11*11=121  \n"
          ]
        }
      ],
      "source": [
        "for i in range(1,12):# Define the outer loop.\n",
        "    for j in range(1,i+1):# Define the inner loop.\n",
        "\t# Format the output character string to align the generated result. The end attribute is set to /n by default.\n",
        "        print(\"%2d*%2d=%2d\"%(i,j,i*j), end=\"  \")\n",
        "    print()"
      ]
    },
    {
      "cell_type": "code",
      "execution_count": null,
      "metadata": {
        "colab": {
          "base_uri": "https://localhost:8080/"
        },
        "id": "dZXOmQqSkCO8",
        "outputId": "00edad69-a5c9-45ca-ec7e-8bbe860e47f6"
      },
      "outputs": [
        {
          "name": "stdout",
          "output_type": "stream",
          "text": [
            " 1* 1= 1   1* 2= 2   1* 3= 3   1* 4= 4   1* 5= 5   1* 6= 6   1* 7= 7   1* 8= 8   1* 9= 9   1*10=10   1*11=11   1*12=12  \n",
            " 2* 1= 2   2* 2= 4   2* 3= 6   2* 4= 8   2* 5=10   2* 6=12   2* 7=14   2* 8=16   2* 9=18   2*10=20   2*11=22   2*12=24  \n",
            " 3* 1= 3   3* 2= 6   3* 3= 9   3* 4=12   3* 5=15   3* 6=18   3* 7=21   3* 8=24   3* 9=27   3*10=30   3*11=33   3*12=36  \n",
            " 4* 1= 4   4* 2= 8   4* 3=12   4* 4=16   4* 5=20   4* 6=24   4* 7=28   4* 8=32   4* 9=36   4*10=40   4*11=44   4*12=48  \n",
            " 5* 1= 5   5* 2=10   5* 3=15   5* 4=20   5* 5=25   5* 6=30   5* 7=35   5* 8=40   5* 9=45   5*10=50   5*11=55   5*12=60  \n",
            " 6* 1= 6   6* 2=12   6* 3=18   6* 4=24   6* 5=30   6* 6=36   6* 7=42   6* 8=48   6* 9=54   6*10=60   6*11=66   6*12=72  \n",
            " 7* 1= 7   7* 2=14   7* 3=21   7* 4=28   7* 5=35   7* 6=42   7* 7=49   7* 8=56   7* 9=63   7*10=70   7*11=77   7*12=84  \n",
            " 8* 1= 8   8* 2=16   8* 3=24   8* 4=32   8* 5=40   8* 6=48   8* 7=56   8* 8=64   8* 9=72   8*10=80   8*11=88   8*12=96  \n",
            " 9* 1= 9   9* 2=18   9* 3=27   9* 4=36   9* 5=45   9* 6=54   9* 7=63   9* 8=72   9* 9=81   9*10=90   9*11=99   9*12=108  \n",
            "10* 1=10  10* 2=20  10* 3=30  10* 4=40  10* 5=50  10* 6=60  10* 7=70  10* 8=80  10* 9=90  10*10=100  10*11=110  10*12=120  \n",
            "11* 1=11  11* 2=22  11* 3=33  11* 4=44  11* 5=55  11* 6=66  11* 7=77  11* 8=88  11* 9=99  11*10=110  11*11=121  11*12=132  \n",
            "12* 1=12  12* 2=24  12* 3=36  12* 4=48  12* 5=60  12* 6=72  12* 7=84  12* 8=96  12* 9=108  12*10=120  12*11=132  12*12=144  \n"
          ]
        }
      ],
      "source": [
        "\n",
        "#for loop\n",
        "\n",
        "for i in range(1,13):\n",
        "\n",
        "  for j in range(1, 13):\n",
        "\n",
        "    print(\"%2d*%2d=%2d\"%(i,j,i*j),end=\"  \")\n",
        "\n",
        "  print()"
      ]
    },
    {
      "cell_type": "markdown",
      "metadata": {
        "id": "vwbnKkFqKP0Z"
      },
      "source": [
        "## \"while\" looping"
      ]
    },
    {
      "cell_type": "code",
      "execution_count": null,
      "metadata": {
        "colab": {
          "base_uri": "https://localhost:8080/"
        },
        "id": "BT1MPRzoKP0Z",
        "outputId": "7c93839e-3994-4f67-8662-54cd7f60ad91",
        "scrolled": true
      },
      "outputs": [
        {
          "name": "stdout",
          "output_type": "stream",
          "text": [
            "90\n",
            "95\n",
            "100\n"
          ]
        }
      ],
      "source": [
        "i=90\n",
        "while (i<=100):\n",
        "    print(i)\n",
        "    i+=5 #i=i+1\n"
      ]
    },
    {
      "cell_type": "code",
      "execution_count": null,
      "metadata": {
        "colab": {
          "base_uri": "https://localhost:8080/"
        },
        "id": "lF33RromKP0Z",
        "outputId": "8b99d06c-175b-4e35-b15c-5a2756ca14a0"
      },
      "outputs": [
        {
          "name": "stdout",
          "output_type": "stream",
          "text": [
            "1\n",
            "2\n",
            "Exit this iteration.\n",
            "4\n",
            "Exit the current big loop.\n"
          ]
        }
      ],
      "source": [
        "i = 0# Create variable i.\n",
        "while i<9: \t\t\t\t\t\t\t\t\t\t# Set a condition for the loop.\n",
        "\ti+=1 # The value of i increases by 1 in each loop.\n",
        "\tif i == 3: \t\t\t\t\t\t\t\t\t\t# Check whether the conditions are met.\n",
        "\t\tprint(\"Exit this iteration.\")\n",
        "\t\tcontinue# Execute continue to exit the current loop.\n",
        "\tif i == 5:\n",
        "\t\tprint(\"Exit the current big loop.\")\n",
        "\t\tbreak# Exit the current big loop.\n",
        "\tprint(i)"
      ]
    },
    {
      "cell_type": "code",
      "execution_count": null,
      "metadata": {
        "id": "fK9lITo1KP0Z"
      },
      "outputs": [],
      "source": [
        "x=0\n",
        "while(1):\n",
        "    x+=1\n",
        "    if(x==5):\n",
        "        break"
      ]
    },
    {
      "cell_type": "markdown",
      "metadata": {
        "id": "s1xNkDApKP0a"
      },
      "source": [
        "# Functions\n",
        "This experiment mainly introduces related knowledge units about functions in Python, and related operations on them.  \n",
        "Functions can raise modularity of applications and reuse of code. In Python, strings, tuples, and numbers are unchangeable, while lists and dictionaries are changeable. For those unchangeable types such as integers, strings, and tuples, only values are transferred during function calling, without any impact on the objects themselves. For those changeable types, objects are transferred during function calling, and external objects will also be impacted after changes.  "
      ]
    },
    {
      "cell_type": "markdown",
      "metadata": {
        "id": "E1P2rMeWKP0a"
      },
      "source": [
        "## Common built-in functions\n",
        "The \"int\" function can be used to convert other types of data into integers."
      ]
    },
    {
      "cell_type": "code",
      "execution_count": null,
      "metadata": {
        "colab": {
          "base_uri": "https://localhost:8080/"
        },
        "id": "V7rObuSnKP0a",
        "outputId": "d52a8e45-c5db-4f66-db5b-adef42426471"
      },
      "outputs": [
        {
          "data": {
            "text/plain": [
              "123"
            ]
          },
          "execution_count": 115,
          "metadata": {},
          "output_type": "execute_result"
        }
      ],
      "source": [
        "int('123')"
      ]
    },
    {
      "cell_type": "code",
      "execution_count": null,
      "metadata": {
        "id": "zawUUkmEKP0a"
      },
      "outputs": [],
      "source": [
        "code 10 line\n",
        "\n",
        "i need it 10 times\n",
        "code = 100 line\n",
        "function\n",
        "10 line the code in the function\n",
        "10 lines the calling of the function\n",
        "20 line\n",
        "edit correct the error >> 10 lines\n",
        "update the function >> 10\n",
        "reuse\n",
        "sqrt"
      ]
    },
    {
      "cell_type": "code",
      "execution_count": null,
      "metadata": {
        "colab": {
          "base_uri": "https://localhost:8080/"
        },
        "id": "5PtILHY2KP0a",
        "outputId": "c0844660-32cb-4cd9-f06a-37463e8a3e4a"
      },
      "outputs": [
        {
          "data": {
            "text/plain": [
              "12"
            ]
          },
          "execution_count": 116,
          "metadata": {},
          "output_type": "execute_result"
        }
      ],
      "source": [
        "#predefined functions\n",
        "int(12.34)"
      ]
    },
    {
      "cell_type": "code",
      "execution_count": null,
      "metadata": {
        "id": "L5nJod2IKP0a"
      },
      "outputs": [],
      "source": [
        "x=(input(\"please enter the first value\"))\n",
        "y=(input(\"please enter the second value\"))\n",
        "z=x+y\n",
        "print(z)"
      ]
    },
    {
      "cell_type": "code",
      "execution_count": null,
      "metadata": {
        "id": "ZeVU_6A5KP0b"
      },
      "outputs": [],
      "source": [
        "x=int(input(\"please enter the first value\"))\n",
        "y=int(input(\"please enter the second value\"))\n",
        "z=x+y\n",
        "print(z)\n",
        "\n",
        "x=input(\"enter your age\")\n",
        "print(type(x))\n",
        "x=int(x)\n",
        "print(type(x))"
      ]
    },
    {
      "cell_type": "code",
      "execution_count": null,
      "metadata": {
        "colab": {
          "base_uri": "https://localhost:8080/"
        },
        "id": "gaFiQDwhKP0b",
        "outputId": "8773f6d0-9f22-4ca2-dc76-a6e49f94d2c2"
      },
      "outputs": [
        {
          "data": {
            "text/plain": [
              "12.34"
            ]
          },
          "execution_count": 117,
          "metadata": {},
          "output_type": "execute_result"
        }
      ],
      "source": [
        "float('12.34')"
      ]
    },
    {
      "cell_type": "code",
      "execution_count": null,
      "metadata": {
        "colab": {
          "base_uri": "https://localhost:8080/",
          "height": 35
        },
        "id": "FlBYRL2mKP0b",
        "outputId": "d795aa21-f30d-4ba4-f1a0-95c0a6dc83b1"
      },
      "outputs": [
        {
          "data": {
            "application/vnd.google.colaboratory.intrinsic+json": {
              "type": "string"
            },
            "text/plain": [
              "'1.23'"
            ]
          },
          "execution_count": 118,
          "metadata": {},
          "output_type": "execute_result"
        }
      ],
      "source": [
        "str(1.23)"
      ]
    },
    {
      "cell_type": "code",
      "execution_count": null,
      "metadata": {
        "colab": {
          "base_uri": "https://localhost:8080/",
          "height": 35
        },
        "id": "wsMlEnDyKP0b",
        "outputId": "9a899a6a-ec8e-403a-b362-8f1b2e18bfd4"
      },
      "outputs": [
        {
          "data": {
            "application/vnd.google.colaboratory.intrinsic+json": {
              "type": "string"
            },
            "text/plain": [
              "'100'"
            ]
          },
          "execution_count": 119,
          "metadata": {},
          "output_type": "execute_result"
        }
      ],
      "source": [
        "str(100)"
      ]
    },
    {
      "cell_type": "code",
      "execution_count": null,
      "metadata": {
        "colab": {
          "base_uri": "https://localhost:8080/"
        },
        "id": "BxTe-51sKP0c",
        "outputId": "1389cbb9-df88-4ab6-e668-05ed9575c19e"
      },
      "outputs": [
        {
          "data": {
            "text/plain": [
              "False"
            ]
          },
          "execution_count": 121,
          "metadata": {},
          "output_type": "execute_result"
        }
      ],
      "source": [
        "bool(0)"
      ]
    },
    {
      "cell_type": "code",
      "execution_count": null,
      "metadata": {
        "colab": {
          "base_uri": "https://localhost:8080/"
        },
        "id": "OLYDWh6MKP0c",
        "outputId": "1ced165c-952b-4943-e65a-6044c0c2b9ab"
      },
      "outputs": [
        {
          "data": {
            "text/plain": [
              "False"
            ]
          },
          "execution_count": 122,
          "metadata": {},
          "output_type": "execute_result"
        }
      ],
      "source": [
        "bool('')"
      ]
    },
    {
      "cell_type": "markdown",
      "metadata": {
        "id": "Ce7JD0OlKP0c"
      },
      "source": [
        "## Function name\n",
        "A function name is a reference to a function object, and it can be assigned to a variable, which is equivalent to giving the function an alias name."
      ]
    },
    {
      "cell_type": "code",
      "execution_count": null,
      "metadata": {
        "colab": {
          "base_uri": "https://localhost:8080/"
        },
        "id": "Eb3J3UUlKP0c",
        "outputId": "d9e5db48-5e4d-4031-ef6d-1d2db6a1fdd7"
      },
      "outputs": [
        {
          "data": {
            "text/plain": [
              "1"
            ]
          },
          "execution_count": 123,
          "metadata": {},
          "output_type": "execute_result"
        }
      ],
      "source": [
        "a = abs # Variable a points to function abs\n",
        "a(-1) # Therefore, the \"abs\" can be called by using \"a\""
      ]
    },
    {
      "cell_type": "markdown",
      "metadata": {
        "id": "Ee5USLBbKP0d"
      },
      "source": [
        "## Define functions"
      ]
    },
    {
      "cell_type": "markdown",
      "metadata": {
        "id": "z9IRrzouKP0d"
      },
      "source": [
        "In Python, you can use the \"def\" statement to define a function, listing function names, brackets, arguments in brackets and colons successively. Then you can edit a function in an indentation block and use the \"return\" statement to return values.  \n",
        "We make an example by defining the \"my_abs\" function to get an absolute value."
      ]
    },
    {
      "cell_type": "code",
      "execution_count": null,
      "metadata": {
        "id": "2HTv8AqhKP0d"
      },
      "outputs": [],
      "source": [
        "def my_abs(x):\n",
        "    if x>=0:\n",
        "        return x\n",
        "    else:\n",
        "        return -x"
      ]
    },
    {
      "cell_type": "code",
      "execution_count": null,
      "metadata": {
        "id": "C5QeKgJ0xZKM"
      },
      "outputs": [],
      "source": [
        "def sum(x,y):\n",
        "  return x+y\n",
        "\n",
        "ss=sum(4,5)"
      ]
    },
    {
      "cell_type": "code",
      "execution_count": null,
      "metadata": {
        "colab": {
          "base_uri": "https://localhost:8080/"
        },
        "id": "4o3X23RMKP0d",
        "outputId": "2dbf62d2-e69d-458a-94c2-9c83c69f260f"
      },
      "outputs": [
        {
          "data": {
            "text/plain": [
              "2"
            ]
          },
          "execution_count": 126,
          "metadata": {},
          "output_type": "execute_result"
        }
      ],
      "source": [
        "my_abs(-2)"
      ]
    },
    {
      "cell_type": "code",
      "execution_count": null,
      "metadata": {
        "id": "nXcDX47wKP0d"
      },
      "outputs": [],
      "source": [
        "s=my_abs\n",
        "s(-5)"
      ]
    },
    {
      "cell_type": "markdown",
      "metadata": {
        "id": "HRjmqY1eKP0e"
      },
      "source": [
        "You can use the \"pass\" statement to define a void function, which can be used as a placeholder. Change the definition of \"my_abs\" to check argument types, that is, to allow only arguments of integers and floating numbers. You can check data types with the built-in function \"is instance()\"."
      ]
    },
    {
      "cell_type": "code",
      "execution_count": null,
      "metadata": {
        "id": "-1-WA10AKP0e"
      },
      "outputs": [],
      "source": [
        "def my_abs(x):\n",
        "    if not isinstance(x, (int, float)):\n",
        "        raise TypeError('bad operand type')\n",
        "    if x >= 0:\n",
        "        return x\n",
        "    else:\n",
        "        return -x"
      ]
    },
    {
      "cell_type": "code",
      "execution_count": null,
      "metadata": {
        "colab": {
          "base_uri": "https://localhost:8080/"
        },
        "id": "kff3GZyh73hM",
        "outputId": "7455b5ff-f7e9-4144-9f3d-9cc6d2b50691"
      },
      "outputs": [
        {
          "name": "stdout",
          "output_type": "stream",
          "text": [
            "15\n"
          ]
        }
      ],
      "source": [
        "def sum(x,y):\n",
        "  z=x+y\n",
        "  print(z)\n",
        "sum(3,4)"
      ]
    },
    {
      "cell_type": "code",
      "execution_count": null,
      "metadata": {
        "colab": {
          "base_uri": "https://localhost:8080/"
        },
        "id": "24MrwS0KKP0e",
        "outputId": "ca49f127-2ae6-4805-ccd4-4e725a07a17a"
      },
      "outputs": [
        {
          "name": "stdout",
          "output_type": "stream",
          "text": [
            "3\n",
            "finished\n"
          ]
        }
      ],
      "source": [
        "print(my_abs(3))\n",
        "\n",
        "print(\"finished\")"
      ]
    },
    {
      "cell_type": "code",
      "execution_count": null,
      "metadata": {
        "id": "Khxb-aJjKP0e"
      },
      "outputs": [],
      "source": [
        "def my_abs(x):"
      ]
    },
    {
      "cell_type": "code",
      "execution_count": null,
      "metadata": {
        "id": "cBBwBM7-KP0e"
      },
      "outputs": [],
      "source": [
        "def my_abs(x):\n",
        "    pass"
      ]
    },
    {
      "cell_type": "code",
      "execution_count": null,
      "metadata": {
        "id": "poj0LlzcKP0e"
      },
      "outputs": [],
      "source": [
        "def my_abs(x):\n",
        "    pass\n",
        "    if x >= 0:\n",
        "        return x\n",
        "    else:\n",
        "        return -x"
      ]
    },
    {
      "cell_type": "code",
      "execution_count": null,
      "metadata": {
        "id": "Y3A9fG9OKP0f"
      },
      "outputs": [],
      "source": [
        "my_abs(-7)"
      ]
    },
    {
      "cell_type": "markdown",
      "metadata": {
        "id": "G54u8z_kKP0f"
      },
      "source": [
        "## Keyword arguments\n",
        "Changeable arguments allow you input zero or any number of arguments, and these changeable arguments will be assembled into a tuple for function calling. While keyword arguments allow you to input zero or any number of arguments, and these keyword arguments will be assembled into a dictionary in functions."
      ]
    },
    {
      "cell_type": "code",
      "execution_count": null,
      "metadata": {
        "id": "g4mTi40nKP0f"
      },
      "outputs": [],
      "source": [
        "def person(name, age, **k):\n",
        "    print('name:', name, 'age:', age, 'other:', k)"
      ]
    },
    {
      "cell_type": "markdown",
      "metadata": {
        "id": "9NZ6tYW3KP0f"
      },
      "source": [
        "Function \"person\" receives keyword argument \"kw\" except essential arguments \"name\" and \"age\". You can only input essential arguments when calling this function."
      ]
    },
    {
      "cell_type": "code",
      "execution_count": null,
      "metadata": {
        "colab": {
          "base_uri": "https://localhost:8080/"
        },
        "id": "ajOEfjJ7KP0f",
        "outputId": "753d21c0-cfa8-4fc9-e049-7304a3506c31"
      },
      "outputs": [
        {
          "name": "stdout",
          "output_type": "stream",
          "text": [
            "name: Michael age: 30 other: {}\n"
          ]
        }
      ],
      "source": [
        "person('Michael', 30)"
      ]
    },
    {
      "cell_type": "code",
      "execution_count": null,
      "metadata": {
        "colab": {
          "base_uri": "https://localhost:8080/"
        },
        "id": "45Gf53POKP0f",
        "outputId": "75067c56-c451-43ec-af73-7c39839ed5c6"
      },
      "outputs": [
        {
          "name": "stdout",
          "output_type": "stream",
          "text": [
            "name: Bob age: 35 other: {'city': 'Beijing'}\n"
          ]
        }
      ],
      "source": [
        "#You can also input any number of keyword arguments.\n",
        "person('Bob', 35, city='Beijing')"
      ]
    },
    {
      "cell_type": "code",
      "execution_count": null,
      "metadata": {
        "colab": {
          "base_uri": "https://localhost:8080/"
        },
        "id": "9LiyULSbKP0g",
        "outputId": "5dd8e436-7a07-4f07-e749-de3d4dc621ea"
      },
      "outputs": [
        {
          "name": "stdout",
          "output_type": "stream",
          "text": [
            "name: Adam age: 45 other: {'gender': 'M', 'job': 'Engineer'}\n"
          ]
        }
      ],
      "source": [
        " person('Adam', 45, gender='M', job='Engineer')"
      ]
    },
    {
      "cell_type": "markdown",
      "metadata": {
        "id": "uDQpPhYcKP0g"
      },
      "source": [
        "You can assemble a dictionary and convert it into keyword arguments as inputs. This is similar to assembling changeable arguments."
      ]
    },
    {
      "cell_type": "code",
      "execution_count": null,
      "metadata": {
        "id": "DTuSra_5KP0g"
      },
      "outputs": [],
      "source": [
        "extra = {'city': 'Beijing', 'job': 'Engineer'}\n",
        "person('Jack', 24, city=extra['city'], job=extra['job'])"
      ]
    },
    {
      "cell_type": "markdown",
      "metadata": {
        "id": "YS3lvN5TKP0g"
      },
      "source": [
        "You can certainly simplify the above-mentioned complex function calling.  \n",
        "***extra means transferring all key-values in this extra dictionary as key arguments into the **kw argument of the function. kw will get a dictionary, which is a copy of the extra dictionary. Changes on kw will not impact the extra dictionary outside the function."
      ]
    },
    {
      "cell_type": "code",
      "execution_count": null,
      "metadata": {
        "colab": {
          "base_uri": "https://localhost:8080/"
        },
        "id": "4YLndTO3KP0g",
        "outputId": "7fa364f6-811a-4f75-db77-cb8964dc18a4"
      },
      "outputs": [
        {
          "name": "stdout",
          "output_type": "stream",
          "text": [
            "name: Jack age: 24 other: {'city': 'Beijing', 'job': 'Engineer'}\n"
          ]
        }
      ],
      "source": [
        "extra = {'city': 'Beijing', 'job': 'Engineer'}\n",
        "person('Jack', 24, **extra)"
      ]
    },
    {
      "cell_type": "markdown",
      "metadata": {
        "id": "U02yaC9aKP0g"
      },
      "source": [
        "## Name keyword arguments\n",
        "If you want to restrict names of keyword arguments, you can name keyword arguments. For example, you can accept only \"city\" and \"job\" as keyword arguments. A function defined in this way is as follows:"
      ]
    },
    {
      "cell_type": "code",
      "execution_count": null,
      "metadata": {
        "id": "K7ClbQ2EKP0g"
      },
      "outputs": [],
      "source": [
        "def person(name, age, *, city, job):\n",
        "    print(name, age, city, job)"
      ]
    },
    {
      "cell_type": "markdown",
      "metadata": {
        "id": "2aidv7xHKP0h"
      },
      "source": [
        "Different from keyword argument \"**kw\", a special separator \"*\"is required to name a keyword argument. Arguments after \"*\"are regarded as naming keyword arguments, which are called as follows:"
      ]
    },
    {
      "cell_type": "code",
      "execution_count": null,
      "metadata": {
        "colab": {
          "base_uri": "https://localhost:8080/",
          "height": 166
        },
        "id": "j_880d7CKP0h",
        "outputId": "7f9d134e-213a-43fc-f4fd-b24c07baa592"
      },
      "outputs": [
        {
          "ename": "TypeError",
          "evalue": "ignored",
          "output_type": "error",
          "traceback": [
            "\u001b[0;31m---------------------------------------------------------------------------\u001b[0m",
            "\u001b[0;31mTypeError\u001b[0m                                 Traceback (most recent call last)",
            "\u001b[0;32m<ipython-input-148-e5310d1060b7>\u001b[0m in \u001b[0;36m<cell line: 1>\u001b[0;34m()\u001b[0m\n\u001b[0;32m----> 1\u001b[0;31m \u001b[0mperson\u001b[0m\u001b[0;34m(\u001b[0m\u001b[0;34m'Jack'\u001b[0m\u001b[0;34m,\u001b[0m \u001b[0;36m24\u001b[0m\u001b[0;34m)\u001b[0m\u001b[0;34m\u001b[0m\u001b[0;34m\u001b[0m\u001b[0m\n\u001b[0m",
            "\u001b[0;31mTypeError\u001b[0m: person() missing 2 required keyword-only arguments: 'city' and 'job'"
          ]
        }
      ],
      "source": [
        "person('Jack', 24)"
      ]
    },
    {
      "cell_type": "markdown",
      "metadata": {
        "id": "MsVBeb-OKP0h"
      },
      "source": [
        "The special separator \"*\"is not required in the keyword argument after a changeable argument in a function."
      ]
    },
    {
      "cell_type": "code",
      "execution_count": null,
      "metadata": {
        "id": "ihHueJPhKP0h"
      },
      "outputs": [],
      "source": [
        "def person(name, age, *args, city=\"Beijing\",job):\n",
        "    print(name, age, args, city, job)"
      ]
    },
    {
      "cell_type": "markdown",
      "metadata": {
        "id": "3Mme5M8RKP0h"
      },
      "source": [
        "Because the keyword argument \"city\" has a default value, you do not need to input a parameter of \"city\" for calling."
      ]
    },
    {
      "cell_type": "code",
      "execution_count": null,
      "metadata": {
        "colab": {
          "background_save": true
        },
        "id": "OWj74_weKP0h",
        "outputId": "db2f5e0f-a987-4802-eee1-314da0f0f2d6"
      },
      "outputs": [
        {
          "name": "stdout",
          "output_type": "stream",
          "text": [
            "Jack 24 () cairo Engineer\n"
          ]
        }
      ],
      "source": [
        "person('Jack', 24,city=\"cairo\",job='Engineer')"
      ]
    },
    {
      "cell_type": "markdown",
      "metadata": {
        "id": "ZM-B44MuKP0i"
      },
      "source": [
        "When you name a keyword argument, \"*\" must be added as a special separator if there are no changeable arguments. Python interpreter cannot identify position arguments and keyword arguments if there is no \"*\"."
      ]
    },
    {
      "cell_type": "markdown",
      "metadata": {
        "id": "6-L60YsvKP0i"
      },
      "source": [
        "# Argument combination\n",
        "To define a function in Python, you can use required arguments, default arguments, changeable arguments, keyword arguments and named keyword arguments. These five types of arguments can be combined with each other.  \n",
        "Note: Arguments must be defined in the order of required arguments, default arguments, changeable arguments, named keyword arguments, and keyword arguments.  \n",
        "For example, to define a function that includes the above-mentioned arguments:  "
      ]
    },
    {
      "cell_type": "code",
      "execution_count": null,
      "metadata": {
        "id": "njw5dZfzKP0i"
      },
      "outputs": [],
      "source": [
        "def f1(a, b, c=0, *args, **kw):\n",
        "    print('a =', a, 'b =', b, 'c =', c, 'args =', args, 'kw =', kw)"
      ]
    },
    {
      "cell_type": "code",
      "execution_count": null,
      "metadata": {
        "id": "Ne0JJEi0KP0i"
      },
      "outputs": [],
      "source": [
        "#Python interpreter will input the matched arguments according to argument positions and names automatically when calling a function.\n",
        "f1(1, 2)"
      ]
    },
    {
      "cell_type": "code",
      "execution_count": null,
      "metadata": {
        "id": "EL4WtGnXKP0i"
      },
      "outputs": [],
      "source": [
        "f1( c=3,a=1,b=2)"
      ]
    },
    {
      "cell_type": "code",
      "execution_count": null,
      "metadata": {
        "id": "0GC3wQraKP0i"
      },
      "outputs": [],
      "source": [
        "f1(1, 2, 3, 'a', 'b')"
      ]
    },
    {
      "cell_type": "code",
      "execution_count": null,
      "metadata": {
        "id": "2bwKi_x6KP0j"
      },
      "outputs": [],
      "source": [
        "f1(1, 2, 3, 'a', 'b', x=99)"
      ]
    },
    {
      "cell_type": "code",
      "execution_count": null,
      "metadata": {
        "id": "5ug6ly1TKP0j"
      },
      "outputs": [],
      "source": [
        "def f2(a, b, c=0, *, d, **kw):\n",
        "    print('a =', a, 'b =', b, 'c =', c, 'd =', d, 'kw =', kw)"
      ]
    },
    {
      "cell_type": "code",
      "execution_count": null,
      "metadata": {
        "id": "NmfFiiY_KP0j"
      },
      "outputs": [],
      "source": [
        "f2(1, 2, d=99, ext='a')"
      ]
    },
    {
      "cell_type": "code",
      "execution_count": null,
      "metadata": {
        "id": "7phXXCzpKP0j"
      },
      "outputs": [],
      "source": [
        "def f1(a, b, c=0, *args, **kw):\n",
        "    print('a =', a, 'b =', b, 'c =', c, 'args =', args, 'kw =', kw)"
      ]
    },
    {
      "cell_type": "code",
      "execution_count": null,
      "metadata": {
        "id": "G6oiXuSTKP0j"
      },
      "outputs": [],
      "source": []
    },
    {
      "cell_type": "code",
      "execution_count": null,
      "metadata": {
        "id": "zCp7VrsTKP0j"
      },
      "outputs": [],
      "source": [
        "#The most amazing thing is that you can call the above-mentioned function through a tuple and a dictionary.\n",
        "args = (1, 2, 3, 4,6)\n",
        "kw = {'d': 99, 'x': '#'}\n",
        "f1(*args, **kw)"
      ]
    },
    {
      "cell_type": "code",
      "execution_count": null,
      "metadata": {
        "id": "JmdHFOlTKP0k"
      },
      "outputs": [],
      "source": [
        "args = (1, 2)\n",
        "kw = {'d': 88, 'x': '#'}\n",
        "f1(*args, **kw)"
      ]
    },
    {
      "cell_type": "code",
      "execution_count": null,
      "metadata": {
        "id": "LH0lLGfaKP0k"
      },
      "outputs": [],
      "source": [
        "def sum(y,x=5):  # default argument x=5 user pass differnt overwrite\n",
        "    z=x+y\n",
        "    return z"
      ]
    },
    {
      "cell_type": "code",
      "execution_count": null,
      "metadata": {
        "colab": {
          "base_uri": "https://localhost:8080/"
        },
        "id": "hdrawdDZKP0k",
        "outputId": "4c80a8f9-fd29-4eee-a4bc-77dfcab5fd77"
      },
      "outputs": [
        {
          "data": {
            "text/plain": [
              "55"
            ]
          },
          "execution_count": 137,
          "metadata": {},
          "output_type": "execute_result"
        }
      ],
      "source": [
        "sum(10,45)"
      ]
    },
    {
      "cell_type": "code",
      "execution_count": null,
      "metadata": {
        "colab": {
          "base_uri": "https://localhost:8080/"
        },
        "id": "ArMUXodeKP0k",
        "outputId": "fca6cab8-4914-43ea-eaeb-434042db10b0"
      },
      "outputs": [
        {
          "data": {
            "text/plain": [
              "18"
            ]
          },
          "execution_count": 138,
          "metadata": {},
          "output_type": "execute_result"
        }
      ],
      "source": [
        "sum(13)"
      ]
    },
    {
      "cell_type": "markdown",
      "metadata": {
        "id": "1JFYza4EKP0k"
      },
      "source": [
        "Therefore, you can call a function through the forms similar to \"func(*args, **kw)\", no matter how its arguments are defined."
      ]
    },
    {
      "cell_type": "markdown",
      "metadata": {
        "id": "491BspNUKP0k"
      },
      "source": [
        "## Recursive function\n",
        "You need to prevent a stack overflow when you use a recursive function. Functions are called through the stack data structure in computers.   The stack will add a layer of stack frames when a function is called, while the stack will remove a layer of stack frames when a function is returned. As the size of a stack is limited, it will lead to a stack overflow if there are excessive numbers of recursive calling of functions.  \n",
        "Solution to a stack overflow: tail recursion optimization  \n",
        "You can use tail recursion optimization to solve a stack flow. As tail recursion enjoys the same effects with looping, you can take looping as a special tail recursion, which means to call itself when the function is returned and exclude expressions in the \"return\" statement. In this way, the compiler or interpreter can optimize tail recursion, making recursion occupying only one stack frame, no matter how many times the function is called. This eliminates the possibility of stack overflow.  \n",
        "For the fact(n) function, because a multiplication expression is introduced in return n * fact(n - 1), it is not tail recursion. To change it into tail recursion, more code is needed to transfer the product of each step into a recursive function.  "
      ]
    },
    {
      "cell_type": "code",
      "execution_count": null,
      "metadata": {
        "id": "WWwHIh_zKP0l"
      },
      "outputs": [],
      "source": [
        "\n",
        "n!=n * (n-1)!\n",
        "\n",
        "#def fact(n):  # 5!   5*4*3*2*1   5* 4!\n",
        "#    return fact_iter(n, 1)\n",
        "\n",
        "def fact(num, product):\n",
        "    if num == 1:\n",
        "        return product\n",
        "    return fact(num - 1, num * product)"
      ]
    },
    {
      "cell_type": "code",
      "execution_count": null,
      "metadata": {
        "colab": {
          "base_uri": "https://localhost:8080/"
        },
        "id": "e1zGuWgPKP0l",
        "outputId": "615d64ef-d718-4e88-e9eb-8295ab411776"
      },
      "outputs": [
        {
          "name": "stdout",
          "output_type": "stream",
          "text": [
            "20.0\n",
            "10.0\n"
          ]
        }
      ],
      "source": [
        "def fact2(n): #  1*2> *3 >*4 >*5\n",
        "\n",
        "    f=1\n",
        "    for i in range(1,n+1):\n",
        "        f*=i  #f=f*i  1*1>f  - 1*2>f - 3*2>f - 4*6>f - 24*5>120\n",
        "\n",
        "    return f\n",
        "def perm(n,r):\n",
        "    return (fact2(n)/fact2(n-r))\n",
        "print(perm(5,2))\n",
        "def comb(n,r):\n",
        "    return perm(n,r)/fact2(r)\n",
        "print(comb(5,2))"
      ]
    },
    {
      "cell_type": "code",
      "execution_count": null,
      "metadata": {
        "id": "9csARPZcKP0l"
      },
      "outputs": [],
      "source": [
        "fact2(6)"
      ]
    },
    {
      "cell_type": "code",
      "execution_count": null,
      "metadata": {
        "id": "tcxZfdeqKP0l"
      },
      "outputs": [],
      "source": [
        "def fact2(n): #  1*2> *3 >*4 >*5\n",
        "    if(n<0):\n",
        "        return -1\n",
        "    f=1\n",
        "    for i in range(1,n+1):\n",
        "        f*=i  #f=f*i\n",
        "    return f"
      ]
    },
    {
      "cell_type": "code",
      "execution_count": null,
      "metadata": {
        "id": "vGV47pGdKP0l"
      },
      "outputs": [],
      "source": [
        "fact2(-7)"
      ]
    },
    {
      "cell_type": "code",
      "execution_count": null,
      "metadata": {
        "id": "wXLRuviCKP0m"
      },
      "outputs": [],
      "source": [
        "def fact(n):  ## 5!=5*4! >4!=4*3! .....  1!=1\n",
        "    if n==1 or n==0 :\n",
        "        return 1\n",
        "    else:\n",
        "        return n*fact(n-1)   # 5 4 3 2 1\n",
        "fact(0)"
      ]
    },
    {
      "cell_type": "code",
      "execution_count": null,
      "metadata": {
        "id": "dJPlOsyeKP0m"
      },
      "outputs": [],
      "source": [
        "fact_iter(1,8)"
      ]
    },
    {
      "cell_type": "code",
      "execution_count": null,
      "metadata": {
        "id": "Q8rasN2BKP0m"
      },
      "outputs": [],
      "source": [
        "fact_iter(2,3)"
      ]
    },
    {
      "cell_type": "code",
      "execution_count": null,
      "metadata": {
        "id": "FwJRlsFsKP0n"
      },
      "outputs": [],
      "source": [
        "int x=5;\n",
        "\n",
        "int class int =7   int x=7"
      ]
    },
    {
      "cell_type": "markdown",
      "metadata": {
        "id": "gaD189gtKP0n"
      },
      "source": [
        "It can be learned that return fact_iter(num - 1, num * product) returns only the recursive function itself. num – 1 and num * product will be calculated before the function is called, without any impact on the function."
      ]
    },
    {
      "cell_type": "markdown",
      "metadata": {
        "id": "hcGic851KP0n"
      },
      "source": [
        "# Object-Oriented Programming\n",
        "This experiment mainly introduces related knowledge units about object-oriented programming in Python, and related operations.  \n",
        "As a programming idea, Object Oriented Programming (OOP) takes objects as the basic units of a program. An object includes data and functions that operate the data.  \n",
        "Process-oriented design (OOD) takes a program as a series of commands, which are a group of functions to be executed in order. To simplify program design, OOD cuts functions further into sub-functions. This reduces system complexity by cutting functions into sub-functions.\n",
        "OOP takes a program as a combination of objects, each of which can receive messages from other objects and process these messages. Execution of a computer program is to transfer a series of messages among different objects.\n",
        "In Python, all data types can be regarded as objects, and you can customize objects. The customized object data types are classes in object-orientation.  \n",
        "\tIntroduction to the object-oriented technology\n",
        "* Class: A class refers to the combination of objects that have the same attributes and methods. It defines the common attributes and methods of these objects in the combination. Objects are instances of classes.  \n",
        "* Class variable: Class variables are publicly used in the total instantiation, and they are defined within classes but beyond function bodies. Class variables are not used as instance variables.  \n",
        "* Data member: Class variables or instance variables process data related to classes and their instance objects.  \n",
        "* Method re-writing: If the methods inherited from parent classes do not meet the requirements of sub-classes, the methods can be re-written. Re-writing a method is also called overriding.  \n",
        "* Instance variable: Instance variables are defined in methods and are used only for the classes of current instances.  \n",
        "* Inheritance: Inheritance means that a derived class inherits the fields and methods from a base class, and it allows taking the objects of derived class as the objects of base classes. For example, a dog-class object drives from an animal-class object. This simulates a \"(is-a)\" relationship (in the figure, a dog is an animal).  \n",
        "* Instantiation: It refers to creating instances for a class or objects for a class.  \n",
        "* Methods: functions defined in classes.  \n",
        "* Objects: data structure objects defined through classes. Objects include two data members (class variable and instance variable), and methods.  "
      ]
    },
    {
      "cell_type": "markdown",
      "metadata": {
        "id": "UyfoRwl9KP0o"
      },
      "source": [
        "## Create and use a class\n",
        "Create a dog class.  \n",
        "Each instance created based on a dog class stores name and age. We will assign capabilities of sitting (sit  () ) and rolling over (roll_over () ) as follows:  "
      ]
    },
    {
      "cell_type": "code",
      "execution_count": null,
      "metadata": {
        "id": "wq5HzXObKP0o"
      },
      "outputs": [],
      "source": [
        "class Dog():\n",
        "\tdef __init__ (self,name1,age1):\n",
        "\t\t#\"\"\"Initializeattribute: name and age\"\"\"\n",
        "\t\tself.name = name1\n",
        "\t\tself.age = age1\n",
        "\t\tprint('welcome')\n",
        "\tdef sit(self):\n",
        "\t\t\"\"\"Simulate sitting when a dog is ordered to do so\"\"\"\n",
        "\t\tprint(self.name+\" is now sitting\")\n",
        "\tdef roll_over(self):\n",
        "\t\t\"\"\"Simulate rolling over when a dog is ordered to do so\"\"\"\n",
        "\t\tprint(self.name+\" rolled over!\")"
      ]
    },
    {
      "cell_type": "code",
      "execution_count": null,
      "metadata": {
        "id": "yJ_utu1BKP0o"
      },
      "outputs": [],
      "source": [
        "d2=Dog('roy',9)"
      ]
    },
    {
      "cell_type": "code",
      "execution_count": null,
      "metadata": {
        "id": "oGHtsmX5KP0o"
      },
      "outputs": [],
      "source": [
        "d2.sit()\n",
        "d2.roll_over()"
      ]
    },
    {
      "cell_type": "code",
      "execution_count": null,
      "metadata": {
        "id": "NU5cID_ZKP0p"
      },
      "outputs": [],
      "source": [
        "d1=Dog('eerere', 5)\n"
      ]
    },
    {
      "cell_type": "code",
      "execution_count": null,
      "metadata": {
        "id": "QzasAtKcKP0p"
      },
      "outputs": [],
      "source": [
        "d1.sit()\n",
        "d1.roll_over()"
      ]
    },
    {
      "cell_type": "code",
      "execution_count": null,
      "metadata": {
        "id": "_TFq4JCgKP0p"
      },
      "outputs": [],
      "source": [
        "d2=Dog('rowy',7)"
      ]
    },
    {
      "cell_type": "code",
      "execution_count": null,
      "metadata": {
        "id": "OGbdQEldKP0p"
      },
      "outputs": [],
      "source": [
        "d2.sit()\n",
        "d2.roll_over()"
      ]
    },
    {
      "cell_type": "code",
      "execution_count": null,
      "metadata": {
        "id": "JvA_g8cpKP0q"
      },
      "outputs": [],
      "source": [
        "d1.sit()\n",
        "d1.roll_over()"
      ]
    },
    {
      "cell_type": "code",
      "execution_count": null,
      "metadata": {
        "id": "HgkhnvLIKP0q"
      },
      "outputs": [],
      "source": [
        "dog1=Dog('luci',4)\n",
        "dog2=Dog('luci22 dog',7)\n",
        "dog.init('luci',4)\n",
        "#dog2.init('luci22 dog',7)\n",
        "print(dog.name)\n",
        "print(dog2.name)\n",
        "dog2.sit()"
      ]
    },
    {
      "cell_type": "code",
      "execution_count": null,
      "metadata": {
        "id": "_4U5chOhKP0q"
      },
      "outputs": [],
      "source": [
        "class Dog:\n",
        "\n",
        "    def sit(self):\n",
        "        print(\"dog is sitting\")"
      ]
    },
    {
      "cell_type": "code",
      "execution_count": null,
      "metadata": {
        "id": "C2wYAZlvKP0q"
      },
      "outputs": [],
      "source": [
        "dog=Dog()\n",
        "#dog.init()\n",
        "dog.sit()\n",
        "#dog2=Dog()\n"
      ]
    },
    {
      "cell_type": "code",
      "execution_count": null,
      "metadata": {
        "id": "kQAD_bOzKP0q"
      },
      "outputs": [],
      "source": [
        "dog.sit()\n",
        "dog.roll_over()"
      ]
    },
    {
      "cell_type": "markdown",
      "metadata": {
        "id": "IbX-Wx8OKP0r"
      },
      "source": [
        "## Access attributes\n",
        "Let us see a complete instance."
      ]
    },
    {
      "cell_type": "code",
      "execution_count": null,
      "metadata": {
        "id": "iD6Pw-GCKP0r"
      },
      "outputs": [],
      "source": [
        "# instance variable >>> object , class variable >> class\n",
        "class Employee():\n",
        "    'All employees base class'\n",
        "    empCount = 0\n",
        "    #def __init__(self):\n",
        "    #    print('employee object created')\n",
        "    def __init__(self, name, salary):\n",
        "        self.name = name\n",
        "        self.salary = salary\n",
        "        Employee.empCount += 1\n",
        "        print(\"the employee \",self.name,\"is created\")\n",
        "    def displayCount(self):\n",
        "        print(\"Total Employee %d\" % Employee.empCount )\n",
        "    def displayEmployee(self):\n",
        "        print(\"Name : \", self.name,  \", Salary: \", self.salary)"
      ]
    },
    {
      "cell_type": "markdown",
      "metadata": {
        "id": "97eClERSKP0r"
      },
      "source": [
        "\"Create the first object of the employee class\""
      ]
    },
    {
      "cell_type": "code",
      "execution_count": null,
      "metadata": {
        "id": "bd9VCJqHKP0r"
      },
      "outputs": [],
      "source": [
        "emp2=Employee('ahmed',40000)\n",
        "emp2.displayCount()"
      ]
    },
    {
      "cell_type": "code",
      "execution_count": null,
      "metadata": {
        "id": "TktlrnYkKP0r"
      },
      "outputs": [],
      "source": [
        "emp1 = Employee('ali',5000)\n",
        "emp1.displayCount()"
      ]
    },
    {
      "cell_type": "markdown",
      "metadata": {
        "id": "Yetz3scXKP0r"
      },
      "source": [
        "\"Create the second object of the employee class\""
      ]
    },
    {
      "cell_type": "code",
      "execution_count": null,
      "metadata": {
        "id": "iNT6J1RXKP0s",
        "scrolled": true
      },
      "outputs": [],
      "source": [
        "emp3 = Employee(\"Manni\", 5000)\n",
        "emp4 = Employee(\"Alibaba\", 330)\n",
        "emp1.displayEmployee()\n",
        "emp2.displayEmployee()\n",
        "emp3.displayEmployee()\n",
        "print(\"Total Employee %d\" % Employee.empCount)"
      ]
    },
    {
      "cell_type": "markdown",
      "metadata": {
        "id": "Vcy8YSRkKP0s"
      },
      "source": [
        "## Class inheritance\n",
        "The major benefit of oriented-object programming is reuse of code. One way to reuse code is the inheritance mechanism. Inheritance can be taken as setting relationships of parent classes and child classes between classes.  \n",
        "Some features of class inheritance in Python.  \n",
        "\tThe construction (_init_() method) of the base class will be not auto-called, and it has to be specially called in the construction of its derived classes.  \n",
        "\tClass prefixes and self argument variables have to be added to the base class when its methods are called. The self argument is not required when regular functions in classes are called.  \n",
        "\tPython always loops up the methods of the corresponding classes, and checks the base class one method by one method only if the methods are not found in the derived classes. (That is, Python searches for the calling method in this class first and then in the base class).  \n",
        "\tIf an inheritance type lists more than one class, this inheritance is called multi-inheritance.  \n",
        "\n",
        "   "
      ]
    },
    {
      "cell_type": "code",
      "execution_count": null,
      "metadata": {
        "id": "-O7tYk3bKP0s"
      },
      "outputs": [],
      "source": [
        "class Parent():        # Define the parent class\n",
        "    parentAttr = 100\n",
        "    def __init__(self):\n",
        "        print(\"Call parent class construction method\")\n",
        "    def parentMethod(self):\n",
        "        print('Call parent class method')\n",
        "    def setAttr(self, attr):\n",
        "        Parent.parentAttr = attr\n",
        "    def getAttr(self):\n",
        "        print(\"Parent class attribute\", Parent.parentAttr)"
      ]
    },
    {
      "cell_type": "code",
      "execution_count": null,
      "metadata": {
        "id": "loEy67s-KP0s"
      },
      "outputs": [],
      "source": [
        "class Child(Parent): # Define a sub-class\n",
        "    def __init__(self):\n",
        "        print(\"Call sub-class construction method\")\n",
        "    def childMethod(self):\n",
        "        print('Call sub-class method')"
      ]
    },
    {
      "cell_type": "code",
      "execution_count": null,
      "metadata": {
        "id": "dt5AKGxyKP0s"
      },
      "outputs": [],
      "source": [
        "c = Child()          # Instantiate sub-class\n",
        "          # Re-call parent class method - get attributes"
      ]
    },
    {
      "cell_type": "code",
      "execution_count": null,
      "metadata": {
        "id": "elq_S9LMKP0s"
      },
      "outputs": [],
      "source": [
        "c.childMethod()      # Call sub-class method\n"
      ]
    },
    {
      "cell_type": "code",
      "execution_count": null,
      "metadata": {
        "id": "JiEiPdHkKP0t"
      },
      "outputs": [],
      "source": [
        "c.parentMethod()     # Call parent class method\n"
      ]
    },
    {
      "cell_type": "code",
      "execution_count": null,
      "metadata": {
        "id": "jCAHWWz4KP0t"
      },
      "outputs": [],
      "source": [
        "c.getAttr()"
      ]
    },
    {
      "cell_type": "code",
      "execution_count": null,
      "metadata": {
        "id": "_JCSmTaVKP0t"
      },
      "outputs": [],
      "source": [
        "c.setAttr(200)       # Re-call parent class method - set attributes\n",
        "c.getAttr()"
      ]
    },
    {
      "cell_type": "markdown",
      "metadata": {
        "id": "bop4pP2XKP0t"
      },
      "source": [
        "## Class attributes and methods\n",
        "\tPrivate attributes of classes:  \n",
        "* __private_attrs: It starts with two underlines to indicate a private attribute, which cannot be used outside a class or directly accessed. When it is used inside a class method, follow the form of self.__private_attrs.\n",
        "\tMethod of class  \n",
        "Inside a class, the def keyword can be used to define a method; unlike a regular function, a class method must include the self argument, which has to be the first argument.\n",
        "\tPrivate method  \n",
        "* __private_method: It starts with two underlines to indicate a private method, which cannot be used outside a class. When it is used inside a class, follow the form of self.__private_methods."
      ]
    },
    {
      "cell_type": "code",
      "execution_count": null,
      "metadata": {
        "id": "luhkPt1yKP0t"
      },
      "outputs": [],
      "source": [
        "class JustCounter():\n",
        "    __secretCount = 0  # Private variable\n",
        "    publicCount = 0    # Public variable\n",
        "    def count(self):\n",
        "        self.__secretCount += 1\n",
        "        self.publicCount += 1\n",
        "        print(self.__secretCount)\n",
        "    def display(self):\n",
        "        print(\"the value of secret variable\",self.__secretCount)"
      ]
    },
    {
      "cell_type": "code",
      "execution_count": null,
      "metadata": {
        "id": "0aFHzSa1KP0t"
      },
      "outputs": [],
      "source": [
        "counter = JustCounter()\n",
        "counter.count()\n",
        "counter.count()\n",
        "  # Error. Instance cannot access private variable"
      ]
    },
    {
      "cell_type": "code",
      "execution_count": null,
      "metadata": {
        "id": "GwZEHL1DKP0u"
      },
      "outputs": [],
      "source": [
        "counter.display()\n"
      ]
    },
    {
      "cell_type": "code",
      "execution_count": null,
      "metadata": {
        "id": "A77CIuFNKP0u"
      },
      "outputs": [],
      "source": [
        "print(counter.__secretCount)"
      ]
    },
    {
      "cell_type": "code",
      "execution_count": null,
      "metadata": {
        "id": "BlDTIOW3KP0u"
      },
      "outputs": [],
      "source": [
        "print(counter.publicCount)\n"
      ]
    },
    {
      "cell_type": "markdown",
      "metadata": {
        "id": "PoGtAaebKP0u"
      },
      "source": [
        "## Date and Time\n",
        "This experiment mainly introduces related knowledge units about date and time in Python, and related operations on them.   \n",
        "How to process date and time is a typical problem for Python. Python provides the time and calendar modules to format date and time.  \n",
        "Time spacing is floating numbers with seconds as the unit. Each time stamp is expressed as the time that has passed since the midnight of January 1st 1970.  \n",
        "mThe time module of Python has many functions to convert common date formats.    "
      ]
    },
    {
      "cell_type": "code",
      "execution_count": null,
      "metadata": {
        "id": "M-30T6D9KP0u"
      },
      "outputs": [],
      "source": [
        "## Get the current time"
      ]
    },
    {
      "cell_type": "code",
      "execution_count": null,
      "metadata": {
        "id": "mOM0wkYsKP0v"
      },
      "outputs": [],
      "source": [
        "import time\n",
        "localtime = time.localtime(time.time())\n",
        "print(\"Local time:\", localtime)"
      ]
    },
    {
      "cell_type": "markdown",
      "metadata": {
        "id": "2HPLeIhLKP0v"
      },
      "source": [
        "## Get the formatted time\n",
        "You can choose various formats as required, but the simplest function to get the readable time mode is asctime():"
      ]
    },
    {
      "cell_type": "code",
      "execution_count": null,
      "metadata": {
        "id": "YZvFkwiDKP0v"
      },
      "outputs": [],
      "source": [
        "import time\n",
        "localtime = time.asctime( time.localtime(time.time()) )\n",
        "print(\"Local time :\", localtime)"
      ]
    },
    {
      "cell_type": "code",
      "execution_count": null,
      "metadata": {
        "id": "YeuXWtwVKP0v"
      },
      "outputs": [],
      "source": [
        "## Format date"
      ]
    },
    {
      "cell_type": "code",
      "execution_count": null,
      "metadata": {
        "id": "owJl06S7KP0v"
      },
      "outputs": [],
      "source": [
        "import time\n",
        "# Format into 2016-03-20 11:45:39\n",
        "print(time.strftime(\"%Y-%m-%d %H:%M:%S\", time.localtime()))"
      ]
    },
    {
      "cell_type": "code",
      "execution_count": null,
      "metadata": {
        "id": "-CqUwWQaKP0v"
      },
      "outputs": [],
      "source": [
        "# Format into Sat Mar 28 22:24:24 2016\n",
        "print(time.strftime(\"%a %b %d %H:%M:%S %Y\", time.localtime()))"
      ]
    },
    {
      "cell_type": "code",
      "execution_count": null,
      "metadata": {
        "id": "wsfjwUxTKP0w"
      },
      "outputs": [],
      "source": [
        "# Turn format string into timestamp\n",
        "a = \"Sat Mar 28 22:24:24 2016\"\n",
        "print(time.mktime(time.strptime(a,\"%a %b %d %H:%M:%S %Y\")))"
      ]
    },
    {
      "cell_type": "markdown",
      "metadata": {
        "id": "oxX2qASmKP0w"
      },
      "source": [
        "## Get calendar of a month\n",
        "The calendar module can process yearly calendars and monthly calendars using multiple methods, for example, printing a monthly calendar."
      ]
    },
    {
      "cell_type": "code",
      "execution_count": null,
      "metadata": {
        "id": "NaciPjRXKP0w"
      },
      "outputs": [],
      "source": [
        "import calendar\n",
        "cal = calendar.month(2020, 6)\n",
        "print(\"output calendar of January 2019:\")\n",
        "print(cal)"
      ]
    },
    {
      "cell_type": "code",
      "execution_count": null,
      "metadata": {
        "id": "q3qi-JDMKP0w"
      },
      "outputs": [],
      "source": [
        "calendar.prcal(2020)"
      ]
    },
    {
      "cell_type": "markdown",
      "metadata": {
        "id": "wPvx76edKP0w"
      },
      "source": [
        "## re.match function\n",
        "re.match tries to match a mode from the string start position. If no mode is matched from the string start, match() returns none.\n",
        "Function syntax:  \n",
        "re.match(pattern, string, flags=0)  \n",
        "Instance:  "
      ]
    },
    {
      "cell_type": "code",
      "execution_count": null,
      "metadata": {
        "id": "yd_vYrw9KP0w"
      },
      "outputs": [],
      "source": [
        "import re\n",
        "print(re.match('com', 'www.runoob.com' 'comhghgggg'))  # Match at start\n"
      ]
    },
    {
      "cell_type": "code",
      "execution_count": null,
      "metadata": {
        "id": "uFCZC6tUKP0x"
      },
      "outputs": [],
      "source": [
        "print(re.search('com', 'www.runoob.com'))        \t# Match not at start"
      ]
    },
    {
      "cell_type": "markdown",
      "metadata": {
        "id": "8mNQP4wBKP0x"
      },
      "source": [
        "## Differences between re.match and re.search\n",
        "re.match matches the string start. If the string start does not agree with the regular expression, the matching fails and the function returns none. re.search matches the entire string until finding a match."
      ]
    },
    {
      "cell_type": "code",
      "execution_count": null,
      "metadata": {
        "id": "K4ndDOMCKP0x"
      },
      "outputs": [],
      "source": [
        "import re\n",
        "line = \"Cats are smarter than dogs\";\n",
        "matchObj = re.match( r'dogs', line, re.M|re.I)\n",
        "if matchObj:\n",
        "    print(\"match --> matchObj.group() : \", matchObj.group())\n",
        "else:\n",
        "    print(\"No match!!\")"
      ]
    },
    {
      "cell_type": "code",
      "execution_count": null,
      "metadata": {
        "id": "wVHyx7bJKP0x"
      },
      "outputs": [],
      "source": [
        "matchObj = re.search( r'dogs', line, re.M|re.I)\n",
        "if matchObj:\n",
        "    print(\"search --> matchObj.group() : \", matchObj.group())\n",
        "else:\n",
        "    print(\"No match!!\")"
      ]
    },
    {
      "cell_type": "markdown",
      "metadata": {
        "id": "v6qzD249KP0x"
      },
      "source": [
        "# File Manipulation\n",
        "This experiment mainly introduces related knowledge units about file manipulation in Python, and related operations.  \n",
        "File manipulation is essential to programming languages, as information technologies would be meaningless if data cannot be stored permanently. This chapter introduces common file manipulation in Python.  "
      ]
    },
    {
      "cell_type": "markdown",
      "metadata": {
        "id": "brttdwfbKP0x"
      },
      "source": [
        "## Read keyboard input\n",
        "Python provides two build-in functions to read a text line from the standard input, which a keyboard by default. The function is input function."
      ]
    },
    {
      "cell_type": "markdown",
      "metadata": {
        "id": "PkGvXPU8KP0y"
      },
      "source": [
        "## input( ) function:\n",
        "The input([prompt])  can receive a Python expression as the input and return the result."
      ]
    },
    {
      "cell_type": "code",
      "execution_count": null,
      "metadata": {
        "id": "TqO8VPfzKP0y"
      },
      "outputs": [],
      "source": [
        "str = input(\"Please input:\")\n",
        "print(\"Your input is: \", str)"
      ]
    },
    {
      "cell_type": "markdown",
      "metadata": {
        "id": "mPn__uc1KP0y"
      },
      "source": [
        "## Open and close files\n",
        "Python provides essential functions and methods to manipulate files by default. You can use the file object to do most file manipulations.\n",
        "Open() function: You should open a file using the Python build-in open() function, and create a file object, so that the related methods can call it to write and read."
      ]
    },
    {
      "cell_type": "code",
      "execution_count": null,
      "metadata": {
        "id": "UJobQ7hXKP0y"
      },
      "outputs": [],
      "source": [
        "# Open a file\n",
        "fo = open(\"foo.txt\", \"r\")\n",
        "print(\"File name: \", fo.name)\n",
        "print(\"closed or not: \", fo.closed)\n",
        "print(\"access mode:\", fo.mode)\n",
        "fo.close()\n",
        "print(\"closed or not: \", fo.closed)\n"
      ]
    },
    {
      "cell_type": "code",
      "execution_count": null,
      "metadata": {
        "id": "ry31gW4pKP0y"
      },
      "outputs": [],
      "source": [
        "# Open a file\n",
        "fo = open(\"foo.txt\", \"w\")\n",
        "print(\"File name: \", fo.name)"
      ]
    },
    {
      "cell_type": "code",
      "execution_count": null,
      "metadata": {
        "id": "-k-cHlV3KP02"
      },
      "outputs": [],
      "source": [
        "# Close the opened file\n",
        "fo.close()"
      ]
    },
    {
      "cell_type": "markdown",
      "metadata": {
        "id": "f8xn6agIKP02"
      },
      "source": [
        "## Write a file\n",
        "write() function: It writes any string into an opened file. Note that Python strings can be binary data, not just texts. This function will not add a line feed ('\\n') at string ends."
      ]
    },
    {
      "cell_type": "code",
      "execution_count": null,
      "metadata": {
        "id": "XtnNMB9cKP02"
      },
      "outputs": [],
      "source": [
        "# Open a file\n",
        "fo = open(\"foo.txt\", \"w\")\n",
        "fo.write( \"www.baidu.com!\\nVery good site!\\n\")\n",
        "# Close an opened file\n",
        "fo.close()\n",
        "#The function above creates a foo.txt file, writes the received content into this file, and closes the file. If you open this file, you will see:\n",
        "#www.baidu.com!\n",
        "#Very good site!"
      ]
    },
    {
      "cell_type": "code",
      "execution_count": null,
      "metadata": {
        "id": "BVSn2PO6KP03"
      },
      "outputs": [],
      "source": [
        "fo.write( \"welcome\")\n"
      ]
    },
    {
      "cell_type": "markdown",
      "metadata": {
        "id": "DBkwbeL4KP03"
      },
      "source": [
        "## Read a file\n",
        "Read() function: It reads strings from an opened file. Note that Python strings can be binary data, not just texts."
      ]
    },
    {
      "cell_type": "code",
      "execution_count": null,
      "metadata": {
        "id": "O39pjTVVKP03"
      },
      "outputs": [],
      "source": [
        "# Open a file\n",
        "fo = open(\"foo.txt\", \"r+\")\n",
        "str = fo.read()\n",
        "print(\"The read string is: \", str)\n",
        "\n",
        "fo.write(\"welcome to python\")\n",
        "str = fo.read()\n",
        "print(\"The read string is: \", str)"
      ]
    },
    {
      "cell_type": "code",
      "execution_count": null,
      "metadata": {
        "id": "Di1ENkK9KP03"
      },
      "outputs": [],
      "source": [
        "# Close an opened file\n",
        "fo.close()"
      ]
    },
    {
      "cell_type": "markdown",
      "metadata": {
        "id": "mAJatDypKP03"
      },
      "source": [
        "## Rename a file\n",
        "The os module of Python provides a method to execute file processing operations, like renaming and deleting files. To use this module, you have to import it first and then call various functions.\n",
        "rename(): It requires two arguments: current file name and new file name.\n",
        "Function syntax:\n",
        "os.rename(current_file_name, new_file_name)"
      ]
    },
    {
      "cell_type": "code",
      "execution_count": null,
      "metadata": {
        "id": "WYj5nhPLKP04"
      },
      "outputs": [],
      "source": [
        "import os\n",
        "# Rename file test1.txt to test2.txt\n",
        "os.rename( \"foo.txt\", \"test2.txt\" )"
      ]
    },
    {
      "cell_type": "code",
      "execution_count": null,
      "metadata": {
        "id": "FWE2OG4lKP04"
      },
      "outputs": [],
      "source": [
        "# Open a file\n",
        "fo = open(\"foo.txt\", \"r+\")\n",
        "str = fo.read(10)\n",
        "print(\"The read string is: \", str)\n",
        "fo.close()"
      ]
    },
    {
      "cell_type": "markdown",
      "metadata": {
        "id": "7NUL2T26KP04"
      },
      "source": [
        "## Delete a file\n",
        "You can use the remove() method to delete a file, using the name of file to be deleted as an argument.\n",
        "Function syntax:\n",
        "`os.remove(file_name)"
      ]
    },
    {
      "cell_type": "code",
      "execution_count": null,
      "metadata": {
        "id": "LhrRLO5RKP04"
      },
      "outputs": [],
      "source": [
        "import os\n",
        "# Delete the existing file test2\n",
        "os.remove(\"test2.txt\")"
      ]
    },
    {
      "cell_type": "code",
      "execution_count": null,
      "metadata": {
        "id": "JQUAZrn0KP04"
      },
      "outputs": [],
      "source": [
        "open(\"test2.txt\")"
      ]
    },
    {
      "cell_type": "code",
      "execution_count": null,
      "metadata": {
        "id": "-00VC8QxKP04"
      },
      "outputs": [],
      "source": [
        "import tensorflow as tf"
      ]
    },
    {
      "cell_type": "code",
      "execution_count": null,
      "metadata": {
        "id": "iGcKuOasKP05"
      },
      "outputs": [],
      "source": [
        "import tensorflow as tf\n",
        "a=tf.constant(5)\n",
        "b=tf.constant(6)\n",
        "s=tf.Session()\n",
        "d=s.run(a)\n",
        "d\n",
        "1.12\n",
        "1.13\n",
        "1.14\n",
        "'..'\n",
        "1.18"
      ]
    },
    {
      "cell_type": "code",
      "execution_count": null,
      "metadata": {
        "id": "cEGfaX5fKP05"
      },
      "outputs": [],
      "source": [
        "conda install tensorflow==1.12\n"
      ]
    },
    {
      "cell_type": "code",
      "execution_count": null,
      "metadata": {
        "id": "7YLgbvgpKP05"
      },
      "outputs": [],
      "source": [
        "\n",
        "import keras"
      ]
    },
    {
      "cell_type": "code",
      "execution_count": null,
      "metadata": {
        "id": "QdBg3PbhKP05"
      },
      "outputs": [],
      "source": [
        "s.run(a+b)"
      ]
    },
    {
      "cell_type": "code",
      "execution_count": null,
      "metadata": {
        "id": "hjBNRnfmKP05"
      },
      "outputs": [],
      "source": [
        "my_dict = {\"Name\":[],\"Address\":[],\"Age\":[]};\n",
        "\n",
        "my_dict[\"Name\"].append(\"Guru\")\n",
        "my_dict[\"Address\"].append(\"Mumbai\")\n",
        "my_dict[\"Age\"].append(30)\n",
        "print(my_dict)\n"
      ]
    },
    {
      "cell_type": "code",
      "execution_count": null,
      "metadata": {
        "id": "VzYhFBe8KP05"
      },
      "outputs": [],
      "source": [
        "print(my_dict)\n"
      ]
    },
    {
      "cell_type": "code",
      "execution_count": null,
      "metadata": {
        "id": "fJnpJyYuKP06"
      },
      "outputs": [],
      "source": [
        "my_dict[\"Name\"].append(\"fee\")\n"
      ]
    },
    {
      "cell_type": "code",
      "execution_count": null,
      "metadata": {
        "id": "AOpg0yMoKP06"
      },
      "outputs": [],
      "source": [
        "my_dict[\"salary\"]=2000\n"
      ]
    },
    {
      "cell_type": "code",
      "execution_count": null,
      "metadata": {
        "id": "jphwuu8PKP06"
      },
      "outputs": [],
      "source": [
        "del my_dict[\"salary\"]\n"
      ]
    }
  ],
  "metadata": {
    "colab": {
      "provenance": []
    },
    "kernelspec": {
      "display_name": "Python 3",
      "language": "python",
      "name": "python3"
    },
    "language_info": {
      "codemirror_mode": {
        "name": "ipython",
        "version": 3
      },
      "file_extension": ".py",
      "mimetype": "text/x-python",
      "name": "python",
      "nbconvert_exporter": "python",
      "pygments_lexer": "ipython3",
      "version": "3.7.4"
    }
  },
  "nbformat": 4,
  "nbformat_minor": 0
}