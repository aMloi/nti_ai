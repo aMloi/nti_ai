{
  "nbformat": 4,
  "nbformat_minor": 0,
  "metadata": {
    "colab": {
      "provenance": []
    },
    "kernelspec": {
      "name": "python3",
      "display_name": "Python 3"
    },
    "language_info": {
      "name": "python"
    }
  },
  "cells": [
    {
      "cell_type": "code",
      "execution_count": 8,
      "metadata": {
        "colab": {
          "base_uri": "https://localhost:8080/",
          "height": 131
        },
        "id": "tyrDD1vJTR7_",
        "outputId": "021d1864-0537-4e4b-aabd-3d14347c5790"
      },
      "outputs": [
        {
          "output_type": "error",
          "ename": "SyntaxError",
          "evalue": "ignored",
          "traceback": [
            "\u001b[0;36m  File \u001b[0;32m\"<ipython-input-8-bd43e2216ba5>\"\u001b[0;36m, line \u001b[0;32m4\u001b[0m\n\u001b[0;31m    pip install gtts\u001b[0m\n\u001b[0m        ^\u001b[0m\n\u001b[0;31mSyntaxError\u001b[0m\u001b[0;31m:\u001b[0m invalid syntax\n"
          ]
        }
      ],
      "source": [
        "'''google text to speach\n",
        "              |\n",
        "              u          '''\n",
        "pip install gtts"
      ]
    },
    {
      "cell_type": "code",
      "source": [
        "import gtts\n",
        "from gtts import gTTS\n",
        "\n",
        "#textx i want to convert\n",
        "mytest = 'hello world'\n",
        "\n",
        "#langu in which you want to convert\n",
        "language = 'en'\n",
        "\n",
        "#slow = true so the reading speed is fasr\n",
        "myobj=gTTS(text=mytest,lang=language,slow=False)\n",
        "\n",
        "#to save the audio in mp3\n",
        "myobj.save('welcome.mp3')"
      ],
      "metadata": {
        "id": "WsLQT1bhTb2c"
      },
      "execution_count": 28,
      "outputs": []
    },
    {
      "cell_type": "code",
      "source": [
        "import IPython\n",
        "IPython.display.Audio('welcome.mp3')"
      ],
      "metadata": {
        "colab": {
          "base_uri": "https://localhost:8080/",
          "height": 76
        },
        "id": "xZnBi1ODTcDm",
        "outputId": "70ca2d98-885d-40be-9c80-44c5754fd10f"
      },
      "execution_count": 26,
      "outputs": [
        {
          "output_type": "execute_result",
          "data": {
            "text/plain": [
              "<IPython.lib.display.Audio object>"
            ],
            "text/html": [
              "\n",
              "                <audio  controls=\"controls\" >\n",
              "                    <source src=\"data:audio/mpeg;base64,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\" type=\"audio/mpeg\" />\n",
              "                    Your browser does not support the audio element.\n",
              "                </audio>\n",
              "              "
            ]
          },
          "metadata": {},
          "execution_count": 26
        }
      ]
    },
    {
      "cell_type": "code",
      "source": [
        "#textx i want to convert\n",
        "mytest = 'مرحبا بكم'\n",
        "\n",
        "#langu in which you want to convert\n",
        "language = 'ar'\n",
        "\n",
        "#slow = true so the reading speed is fasr\n",
        "myobj=gTTS(text=mytest,lang=language,slow=False)\n",
        "\n",
        "#to save the audio in mp3\n",
        "myobj.save('welcome_arabic.mp3')"
      ],
      "metadata": {
        "id": "FBl_N0xMTcGQ"
      },
      "execution_count": 31,
      "outputs": []
    },
    {
      "cell_type": "code",
      "source": [
        "import IPython\n",
        "IPython.display.Audio('welcome_arabic.mp3')"
      ],
      "metadata": {
        "colab": {
          "base_uri": "https://localhost:8080/",
          "height": 76
        },
        "id": "327VsVpsTcOz",
        "outputId": "859bbc45-9512-422e-b10f-8c171192b916"
      },
      "execution_count": 32,
      "outputs": [
        {
          "output_type": "execute_result",
          "data": {
            "text/plain": [
              "<IPython.lib.display.Audio object>"
            ],
            "text/html": [
              "\n",
              "                <audio  controls=\"controls\" >\n",
              "                    <source src=\"data:audio/mpeg;base64,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\" type=\"audio/mpeg\" />\n",
              "                    Your browser does not support the audio element.\n",
              "                </audio>\n",
              "              "
            ]
          },
          "metadata": {},
          "execution_count": 32
        }
      ]
    },
    {
      "cell_type": "code",
      "source": [
        "#textx i want to convert\n",
        "mytest = 'مرحبا بكم'\n",
        "#langu in which you want to convert\n",
        "language = 'ar'\n",
        "\n",
        "#slow = true so the reading speed is fasr\n",
        "myobj=gTTS(text=mytest,lang=language,slow=False)\n",
        "\n",
        "#to save the audio in mp3\n",
        "myobj.save('welcome_arabic1.mp3')\n",
        "import IPython\n",
        "IPython.display.Audio('welcome_arabic1.mp3')"
      ],
      "metadata": {
        "colab": {
          "base_uri": "https://localhost:8080/",
          "height": 76
        },
        "id": "jScdY6rTTcRz",
        "outputId": "7e379d03-5317-4795-a5b1-6c945283d92f"
      },
      "execution_count": 34,
      "outputs": [
        {
          "output_type": "execute_result",
          "data": {
            "text/plain": [
              "<IPython.lib.display.Audio object>"
            ],
            "text/html": [
              "\n",
              "                <audio  controls=\"controls\" >\n",
              "                    <source src=\"data:audio/mpeg;base64,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\" type=\"audio/mpeg\" />\n",
              "                    Your browser does not support the audio element.\n",
              "                </audio>\n",
              "              "
            ]
          },
          "metadata": {},
          "execution_count": 34
        }
      ]
    },
    {
      "cell_type": "code",
      "source": [
        "#how to change the performer voice offline\n",
        "\n",
        "#you can change the desired voices from different online libaries\n",
        "\n",
        "\"\"\"\n",
        "\"HKEY_LOCAL_MACHINE\\SOFTWARE\\Microsoft\\Speech\\Voices\\Tokens\\TTS_MS_EN-US_ZIRA_11.0\"\n",
        "\n",
        "HKEY_LOCAL_MACHINE\\SOFTWARE\\Microsoft\\Speech\\Voices\\Tokens\\TTS_MS_EN-US_DAVID_11.0\n",
        "\n",
        "HKEY_LOCAL_MACHINE\\SOFTWARE\\Microsoft\\Speech\\Voices\\Tokens\\TTS_MS_EN-US_ZIRA_11.0\n",
        "\n",
        "HKEY_LOCAL_MACHINE\\SOFTWARE\\Microsoft\\Speech\\Voices\\Tokens\\TTS_MS_EN-GB_HAZEL_11.0\n",
        "\"\"\""
      ],
      "metadata": {
        "colab": {
          "base_uri": "https://localhost:8080/",
          "height": 71
        },
        "id": "9aqg5j_NbJyB",
        "outputId": "153a379b-16fb-4547-eb7d-b5a694a3cb6c"
      },
      "execution_count": 40,
      "outputs": [
        {
          "output_type": "execute_result",
          "data": {
            "text/plain": [
              "'\\n\"HKEY_LOCAL_MACHINE\\\\SOFTWARE\\\\Microsoft\\\\Speech\\\\Voices\\\\Tokens\\\\TTS_MS_EN-US_ZIRA_11.0\"\\n\\nHKEY_LOCAL_MACHINE\\\\SOFTWARE\\\\Microsoft\\\\Speech\\\\Voices\\\\Tokens\\\\TTS_MS_EN-US_DAVID_11.0\\n\\nHKEY_LOCAL_MACHINE\\\\SOFTWARE\\\\Microsoft\\\\Speech\\\\Voices\\\\Tokens\\\\TTS_MS_EN-US_ZIRA_11.0\\n\\nHKEY_LOCAL_MACHINE\\\\SOFTWARE\\\\Microsoft\\\\Speech\\\\Voices\\\\Tokens\\\\TTS_MS_EN-GB_HAZEL_11.0\\n'"
            ],
            "application/vnd.google.colaboratory.intrinsic+json": {
              "type": "string"
            }
          },
          "metadata": {},
          "execution_count": 40
        }
      ]
    },
    {
      "cell_type": "code",
      "source": [
        "import pyttsx3\n",
        "\n",
        "# Initialize the TTS engine\n",
        "engine = pyttsx3.init()\n",
        "\n",
        "# List available voices\n",
        "voices = engine.getProperty('voices')\n",
        "for voice in voices:\n",
        "    print(f\"Voice: {voice.id}\")\n",
        "\n",
        "# Select a specific voice (change the voice ID as needed)\n",
        "desired_voice_id = \"com.apple.speech.synthesis.voice.kyoko\"  # Change this to the desired voice ID\n",
        "engine.setProperty('voice', desired_voice_id)\n",
        "\n",
        "# Set the speech rate (optional)\n",
        "engine.setProperty('rate', 150)  # Adjust the value as needed\n",
        "\n",
        "# Text to be converted to speech\n",
        "text = \"Hello, how are you?\"\n",
        "\n",
        "# Convert text to speech\n",
        "engine.say(text)\n",
        "\n",
        "# Play the speech\n",
        "engine.runAndWait()"
      ],
      "metadata": {
        "id": "EEPXZBFLbJux"
      },
      "execution_count": null,
      "outputs": []
    }
  ]
}